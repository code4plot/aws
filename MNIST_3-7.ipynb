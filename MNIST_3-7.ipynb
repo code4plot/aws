{
 "cells": [
  {
   "cell_type": "markdown",
   "metadata": {},
   "source": [
    "# fastai MNIST exercise"
   ]
  },
  {
   "cell_type": "code",
   "execution_count": 1,
   "metadata": {},
   "outputs": [],
   "source": [
    "#setup\n",
    "!pip install -qq fastbook"
   ]
  },
  {
   "cell_type": "code",
   "execution_count": 2,
   "metadata": {},
   "outputs": [
    {
     "name": "stderr",
     "output_type": "stream",
     "text": [
      "/home/ec2-user/anaconda3/envs/python3/lib/python3.6/site-packages/fastbook/__init__.py:18: UserWarning: Missing `graphviz` - please run `conda install fastbook`\n",
      "  except ModuleNotFoundError: warn(\"Missing `graphviz` - please run `conda install fastbook`\")\n"
     ]
    }
   ],
   "source": [
    "import fastbook\n",
    "fastbook.setup_book()"
   ]
  },
  {
   "cell_type": "code",
   "execution_count": 3,
   "metadata": {},
   "outputs": [],
   "source": [
    "from fastai.vision.all import *\n",
    "from fastbook import *\n",
    "\n",
    "matplotlib.rc('image', cmap = 'Grays')"
   ]
  },
  {
   "cell_type": "code",
   "execution_count": 4,
   "metadata": {},
   "outputs": [
    {
     "data": {
      "text/html": [],
      "text/plain": [
       "<IPython.core.display.HTML object>"
      ]
     },
     "metadata": {},
     "output_type": "display_data"
    },
    {
     "name": "stdout",
     "output_type": "stream",
     "text": [
      "/home/ec2-user/.fastai/data/mnist_sample\n"
     ]
    }
   ],
   "source": [
    "#path to handwritten digit images\n",
    "path = untar_data(URLs.MNIST_SAMPLE)\n",
    "print(path)"
   ]
  },
  {
   "cell_type": "code",
   "execution_count": 5,
   "metadata": {},
   "outputs": [],
   "source": [
    "Path.BASE_PATH = path\n"
   ]
  },
  {
   "cell_type": "code",
   "execution_count": 6,
   "metadata": {},
   "outputs": [
    {
     "data": {
      "text/plain": [
       "(#3) [Path('valid'),Path('labels.csv'),Path('train')]"
      ]
     },
     "execution_count": 6,
     "metadata": {},
     "output_type": "execute_result"
    }
   ],
   "source": [
    "path.ls()"
   ]
  },
  {
   "cell_type": "code",
   "execution_count": 7,
   "metadata": {},
   "outputs": [
    {
     "data": {
      "text/plain": [
       "(#2) [Path('train/3'),Path('train/7')]"
      ]
     },
     "execution_count": 7,
     "metadata": {},
     "output_type": "execute_result"
    }
   ],
   "source": [
    "(path/'train').ls()"
   ]
  },
  {
   "cell_type": "code",
   "execution_count": 8,
   "metadata": {},
   "outputs": [
    {
     "data": {
      "text/plain": [
       "(#6131) [Path('train/3/10.png'),Path('train/3/10000.png'),Path('train/3/10011.png'),Path('train/3/10031.png'),Path('train/3/10034.png'),Path('train/3/10042.png'),Path('train/3/10052.png'),Path('train/3/1007.png'),Path('train/3/10074.png'),Path('train/3/10091.png')...]"
      ]
     },
     "execution_count": 8,
     "metadata": {},
     "output_type": "execute_result"
    }
   ],
   "source": [
    "threes = (path/'train/3').ls().sorted()\n",
    "sevens = (path/'train/7').ls().sorted()\n",
    "threes"
   ]
  },
  {
   "cell_type": "code",
   "execution_count": 9,
   "metadata": {},
   "outputs": [
    {
     "data": {
      "image/png": "[encoded data removed]",
      "text/plain": [
       "<PIL.PngImagePlugin.PngImageFile image mode=L size=28x28 at 0x7F727F5E3390>"
      ]
     },
     "execution_count": 9,
     "metadata": {},
     "output_type": "execute_result"
    }
   ],
   "source": [
    "#draw one example\n",
    "im3_path = threes[0]\n",
    "im3 = Image.open(im3_path)\n",
    "im3"
   ]
  },
  {
   "cell_type": "code",
   "execution_count": 10,
   "metadata": {},
   "outputs": [
    {
     "data": {
      "text/plain": [
       "array([[  0,   0,   0,  24, 209],\n",
       "       [  0,   0,  91, 137, 253],\n",
       "       [ 40, 214, 250, 254, 254],\n",
       "       [ 81, 247, 254, 254, 254],\n",
       "       [  0, 110, 246, 254, 254]], dtype=uint8)"
      ]
     },
     "execution_count": 10,
     "metadata": {},
     "output_type": "execute_result"
    }
   ],
   "source": [
    "#computer sees image as  an array of gray values\n",
    "array(im3)[10:15,10:15]"
   ]
  },
  {
   "cell_type": "code",
   "execution_count": 11,
   "metadata": {},
   "outputs": [
    {
     "data": {
      "text/plain": [
       "tensor([[  0,   0,   0,  24, 209],\n",
       "        [  0,   0,  91, 137, 253],\n",
       "        [ 40, 214, 250, 254, 254],\n",
       "        [ 81, 247, 254, 254, 254],\n",
       "        [  0, 110, 246, 254, 254]], dtype=torch.uint8)"
      ]
     },
     "execution_count": 11,
     "metadata": {},
     "output_type": "execute_result"
    }
   ],
   "source": [
    "#or in tensor\n",
    "tensor(im3)[10:15,10:15]"
   ]
  },
  {
   "cell_type": "code",
   "execution_count": 12,
   "metadata": {},
   "outputs": [
    {
     "data": {
      "text/html": [
       "<style  type=\"text/css\" >\n",
       "    #T_b451816a_5ada_11eb_9128_a708b9cf6f19row0_col0 {\n",
       "            font-size:  6pt;\n",
       "            background-color:  #ffffff;\n",
       "            color:  #000000;\n",
       "        }    #T_b451816a_5ada_11eb_9128_a708b9cf6f19row0_col1 {\n",
       "            font-size:  6pt;\n",
       "            background-color:  #ffffff;\n",
       "            color:  #000000;\n",
       "        }    #T_b451816a_5ada_11eb_9128_a708b9cf6f19row0_col2 {\n",
       "            font-size:  6pt;\n",
       "            background-color:  #ffffff;\n",
       "            color:  #000000;\n",
       "        }    #T_b451816a_5ada_11eb_9128_a708b9cf6f19row0_col3 {\n",
       "            font-size:  6pt;\n",
       "            background-color:  #ffffff;\n",
       "            color:  #000000;\n",
       "        }    #T_b451816a_5ada_11eb_9128_a708b9cf6f19row0_col4 {\n",
       "            font-size:  6pt;\n",
       "            background-color:  #ffffff;\n",
       "            color:  #000000;\n",
       "        }    #T_b451816a_5ada_11eb_9128_a708b9cf6f19row0_col5 {\n",
       "            font-size:  6pt;\n",
       "            background-color:  #ffffff;\n",
       "            color:  #000000;\n",
       "        }    #T_b451816a_5ada_11eb_9128_a708b9cf6f19row0_col6 {\n",
       "            font-size:  6pt;\n",
       "            background-color:  #ffffff;\n",
       "            color:  #000000;\n",
       "        }    #T_b451816a_5ada_11eb_9128_a708b9cf6f19row0_col7 {\n",
       "            font-size:  6pt;\n",
       "            background-color:  #ffffff;\n",
       "            color:  #000000;\n",
       "        }    #T_b451816a_5ada_11eb_9128_a708b9cf6f19row0_col8 {\n",
       "            font-size:  6pt;\n",
       "            background-color:  #ffffff;\n",
       "            color:  #000000;\n",
       "        }    #T_b451816a_5ada_11eb_9128_a708b9cf6f19row0_col9 {\n",
       "            font-size:  6pt;\n",
       "            background-color:  #ffffff;\n",
       "            color:  #000000;\n",
       "        }    #T_b451816a_5ada_11eb_9128_a708b9cf6f19row0_col10 {\n",
       "            font-size:  6pt;\n",
       "            background-color:  #ffffff;\n",
       "            color:  #000000;\n",
       "        }    #T_b451816a_5ada_11eb_9128_a708b9cf6f19row0_col11 {\n",
       "            font-size:  6pt;\n",
       "            background-color:  #ffffff;\n",
       "            color:  #000000;\n",
       "        }    #T_b451816a_5ada_11eb_9128_a708b9cf6f19row1_col0 {\n",
       "            font-size:  6pt;\n",
       "            background-color:  #ffffff;\n",
       "            color:  #000000;\n",
       "        }    #T_b451816a_5ada_11eb_9128_a708b9cf6f19row1_col1 {\n",
       "            font-size:  6pt;\n",
       "            background-color:  #ffffff;\n",
       "            color:  #000000;\n",
       "        }    #T_b451816a_5ada_11eb_9128_a708b9cf6f19row1_col2 {\n",
       "            font-size:  6pt;\n",
       "            background-color:  #ffffff;\n",
       "            color:  #000000;\n",
       "        }    #T_b451816a_5ada_11eb_9128_a708b9cf6f19row1_col3 {\n",
       "            font-size:  6pt;\n",
       "            background-color:  #e8e8e8;\n",
       "            color:  #000000;\n",
       "        }    #T_b451816a_5ada_11eb_9128_a708b9cf6f19row1_col4 {\n",
       "            font-size:  6pt;\n",
       "            background-color:  #a2a2a2;\n",
       "            color:  #000000;\n",
       "        }    #T_b451816a_5ada_11eb_9128_a708b9cf6f19row1_col5 {\n",
       "            font-size:  6pt;\n",
       "            background-color:  #292929;\n",
       "            color:  #f1f1f1;\n",
       "        }    #T_b451816a_5ada_11eb_9128_a708b9cf6f19row1_col6 {\n",
       "            font-size:  6pt;\n",
       "            background-color:  #6b6b6b;\n",
       "            color:  #000000;\n",
       "        }    #T_b451816a_5ada_11eb_9128_a708b9cf6f19row1_col7 {\n",
       "            font-size:  6pt;\n",
       "            background-color:  #a2a2a2;\n",
       "            color:  #000000;\n",
       "        }    #T_b451816a_5ada_11eb_9128_a708b9cf6f19row1_col8 {\n",
       "            font-size:  6pt;\n",
       "            background-color:  #a2a2a2;\n",
       "            color:  #000000;\n",
       "        }    #T_b451816a_5ada_11eb_9128_a708b9cf6f19row1_col9 {\n",
       "            font-size:  6pt;\n",
       "            background-color:  #fcfcfc;\n",
       "            color:  #000000;\n",
       "        }    #T_b451816a_5ada_11eb_9128_a708b9cf6f19row1_col10 {\n",
       "            font-size:  6pt;\n",
       "            background-color:  #ffffff;\n",
       "            color:  #000000;\n",
       "        }    #T_b451816a_5ada_11eb_9128_a708b9cf6f19row1_col11 {\n",
       "            font-size:  6pt;\n",
       "            background-color:  #ffffff;\n",
       "            color:  #000000;\n",
       "        }    #T_b451816a_5ada_11eb_9128_a708b9cf6f19row2_col0 {\n",
       "            font-size:  6pt;\n",
       "            background-color:  #ffffff;\n",
       "            color:  #000000;\n",
       "        }    #T_b451816a_5ada_11eb_9128_a708b9cf6f19row2_col1 {\n",
       "            font-size:  6pt;\n",
       "            background-color:  #ffffff;\n",
       "            color:  #000000;\n",
       "        }    #T_b451816a_5ada_11eb_9128_a708b9cf6f19row2_col2 {\n",
       "            font-size:  6pt;\n",
       "            background-color:  #000000;\n",
       "            color:  #f1f1f1;\n",
       "        }    #T_b451816a_5ada_11eb_9128_a708b9cf6f19row2_col3 {\n",
       "            font-size:  6pt;\n",
       "            background-color:  #060606;\n",
       "            color:  #f1f1f1;\n",
       "        }    #T_b451816a_5ada_11eb_9128_a708b9cf6f19row2_col4 {\n",
       "            font-size:  6pt;\n",
       "            background-color:  #000000;\n",
       "            color:  #f1f1f1;\n",
       "        }    #T_b451816a_5ada_11eb_9128_a708b9cf6f19row2_col5 {\n",
       "            font-size:  6pt;\n",
       "            background-color:  #000000;\n",
       "            color:  #f1f1f1;\n",
       "        }    #T_b451816a_5ada_11eb_9128_a708b9cf6f19row2_col6 {\n",
       "            font-size:  6pt;\n",
       "            background-color:  #000000;\n",
       "            color:  #f1f1f1;\n",
       "        }    #T_b451816a_5ada_11eb_9128_a708b9cf6f19row2_col7 {\n",
       "            font-size:  6pt;\n",
       "            background-color:  #000000;\n",
       "            color:  #f1f1f1;\n",
       "        }    #T_b451816a_5ada_11eb_9128_a708b9cf6f19row2_col8 {\n",
       "            font-size:  6pt;\n",
       "            background-color:  #000000;\n",
       "            color:  #f1f1f1;\n",
       "        }    #T_b451816a_5ada_11eb_9128_a708b9cf6f19row2_col9 {\n",
       "            font-size:  6pt;\n",
       "            background-color:  #d7d7d7;\n",
       "            color:  #000000;\n",
       "        }    #T_b451816a_5ada_11eb_9128_a708b9cf6f19row2_col10 {\n",
       "            font-size:  6pt;\n",
       "            background-color:  #ffffff;\n",
       "            color:  #000000;\n",
       "        }    #T_b451816a_5ada_11eb_9128_a708b9cf6f19row2_col11 {\n",
       "            font-size:  6pt;\n",
       "            background-color:  #ffffff;\n",
       "            color:  #000000;\n",
       "        }    #T_b451816a_5ada_11eb_9128_a708b9cf6f19row3_col0 {\n",
       "            font-size:  6pt;\n",
       "            background-color:  #ffffff;\n",
       "            color:  #000000;\n",
       "        }    #T_b451816a_5ada_11eb_9128_a708b9cf6f19row3_col1 {\n",
       "            font-size:  6pt;\n",
       "            background-color:  #ffffff;\n",
       "            color:  #000000;\n",
       "        }    #T_b451816a_5ada_11eb_9128_a708b9cf6f19row3_col2 {\n",
       "            font-size:  6pt;\n",
       "            background-color:  #e7e7e7;\n",
       "            color:  #000000;\n",
       "        }    #T_b451816a_5ada_11eb_9128_a708b9cf6f19row3_col3 {\n",
       "            font-size:  6pt;\n",
       "            background-color:  #111111;\n",
       "            color:  #f1f1f1;\n",
       "        }    #T_b451816a_5ada_11eb_9128_a708b9cf6f19row3_col4 {\n",
       "            font-size:  6pt;\n",
       "            background-color:  #000000;\n",
       "            color:  #f1f1f1;\n",
       "        }    #T_b451816a_5ada_11eb_9128_a708b9cf6f19row3_col5 {\n",
       "            font-size:  6pt;\n",
       "            background-color:  #000000;\n",
       "            color:  #f1f1f1;\n",
       "        }    #T_b451816a_5ada_11eb_9128_a708b9cf6f19row3_col6 {\n",
       "            font-size:  6pt;\n",
       "            background-color:  #000000;\n",
       "            color:  #f1f1f1;\n",
       "        }    #T_b451816a_5ada_11eb_9128_a708b9cf6f19row3_col7 {\n",
       "            font-size:  6pt;\n",
       "            background-color:  #000000;\n",
       "            color:  #f1f1f1;\n",
       "        }    #T_b451816a_5ada_11eb_9128_a708b9cf6f19row3_col8 {\n",
       "            font-size:  6pt;\n",
       "            background-color:  #000000;\n",
       "            color:  #f1f1f1;\n",
       "        }    #T_b451816a_5ada_11eb_9128_a708b9cf6f19row3_col9 {\n",
       "            font-size:  6pt;\n",
       "            background-color:  #131313;\n",
       "            color:  #f1f1f1;\n",
       "        }    #T_b451816a_5ada_11eb_9128_a708b9cf6f19row3_col10 {\n",
       "            font-size:  6pt;\n",
       "            background-color:  #cacaca;\n",
       "            color:  #000000;\n",
       "        }    #T_b451816a_5ada_11eb_9128_a708b9cf6f19row3_col11 {\n",
       "            font-size:  6pt;\n",
       "            background-color:  #ffffff;\n",
       "            color:  #000000;\n",
       "        }    #T_b451816a_5ada_11eb_9128_a708b9cf6f19row4_col0 {\n",
       "            font-size:  6pt;\n",
       "            background-color:  #ffffff;\n",
       "            color:  #000000;\n",
       "        }    #T_b451816a_5ada_11eb_9128_a708b9cf6f19row4_col1 {\n",
       "            font-size:  6pt;\n",
       "            background-color:  #ffffff;\n",
       "            color:  #000000;\n",
       "        }    #T_b451816a_5ada_11eb_9128_a708b9cf6f19row4_col2 {\n",
       "            font-size:  6pt;\n",
       "            background-color:  #ffffff;\n",
       "            color:  #000000;\n",
       "        }    #T_b451816a_5ada_11eb_9128_a708b9cf6f19row4_col3 {\n",
       "            font-size:  6pt;\n",
       "            background-color:  #afafaf;\n",
       "            color:  #000000;\n",
       "        }    #T_b451816a_5ada_11eb_9128_a708b9cf6f19row4_col4 {\n",
       "            font-size:  6pt;\n",
       "            background-color:  #0c0c0c;\n",
       "            color:  #f1f1f1;\n",
       "        }    #T_b451816a_5ada_11eb_9128_a708b9cf6f19row4_col5 {\n",
       "            font-size:  6pt;\n",
       "            background-color:  #000000;\n",
       "            color:  #f1f1f1;\n",
       "        }    #T_b451816a_5ada_11eb_9128_a708b9cf6f19row4_col6 {\n",
       "            font-size:  6pt;\n",
       "            background-color:  #232323;\n",
       "            color:  #f1f1f1;\n",
       "        }    #T_b451816a_5ada_11eb_9128_a708b9cf6f19row4_col7 {\n",
       "            font-size:  6pt;\n",
       "            background-color:  #000000;\n",
       "            color:  #f1f1f1;\n",
       "        }    #T_b451816a_5ada_11eb_9128_a708b9cf6f19row4_col8 {\n",
       "            font-size:  6pt;\n",
       "            background-color:  #000000;\n",
       "            color:  #f1f1f1;\n",
       "        }    #T_b451816a_5ada_11eb_9128_a708b9cf6f19row4_col9 {\n",
       "            font-size:  6pt;\n",
       "            background-color:  #000000;\n",
       "            color:  #f1f1f1;\n",
       "        }    #T_b451816a_5ada_11eb_9128_a708b9cf6f19row4_col10 {\n",
       "            font-size:  6pt;\n",
       "            background-color:  #6e6e6e;\n",
       "            color:  #000000;\n",
       "        }    #T_b451816a_5ada_11eb_9128_a708b9cf6f19row4_col11 {\n",
       "            font-size:  6pt;\n",
       "            background-color:  #ffffff;\n",
       "            color:  #000000;\n",
       "        }    #T_b451816a_5ada_11eb_9128_a708b9cf6f19row5_col0 {\n",
       "            font-size:  6pt;\n",
       "            background-color:  #ffffff;\n",
       "            color:  #000000;\n",
       "        }    #T_b451816a_5ada_11eb_9128_a708b9cf6f19row5_col1 {\n",
       "            font-size:  6pt;\n",
       "            background-color:  #ffffff;\n",
       "            color:  #000000;\n",
       "        }    #T_b451816a_5ada_11eb_9128_a708b9cf6f19row5_col2 {\n",
       "            font-size:  6pt;\n",
       "            background-color:  #ffffff;\n",
       "            color:  #000000;\n",
       "        }    #T_b451816a_5ada_11eb_9128_a708b9cf6f19row5_col3 {\n",
       "            font-size:  6pt;\n",
       "            background-color:  #ffffff;\n",
       "            color:  #000000;\n",
       "        }    #T_b451816a_5ada_11eb_9128_a708b9cf6f19row5_col4 {\n",
       "            font-size:  6pt;\n",
       "            background-color:  #3a3a3a;\n",
       "            color:  #f1f1f1;\n",
       "        }    #T_b451816a_5ada_11eb_9128_a708b9cf6f19row5_col5 {\n",
       "            font-size:  6pt;\n",
       "            background-color:  #000000;\n",
       "            color:  #f1f1f1;\n",
       "        }    #T_b451816a_5ada_11eb_9128_a708b9cf6f19row5_col6 {\n",
       "            font-size:  6pt;\n",
       "            background-color:  #363636;\n",
       "            color:  #f1f1f1;\n",
       "        }    #T_b451816a_5ada_11eb_9128_a708b9cf6f19row5_col7 {\n",
       "            font-size:  6pt;\n",
       "            background-color:  #000000;\n",
       "            color:  #f1f1f1;\n",
       "        }    #T_b451816a_5ada_11eb_9128_a708b9cf6f19row5_col8 {\n",
       "            font-size:  6pt;\n",
       "            background-color:  #000000;\n",
       "            color:  #f1f1f1;\n",
       "        }    #T_b451816a_5ada_11eb_9128_a708b9cf6f19row5_col9 {\n",
       "            font-size:  6pt;\n",
       "            background-color:  #000000;\n",
       "            color:  #f1f1f1;\n",
       "        }    #T_b451816a_5ada_11eb_9128_a708b9cf6f19row5_col10 {\n",
       "            font-size:  6pt;\n",
       "            background-color:  #ebebeb;\n",
       "            color:  #000000;\n",
       "        }    #T_b451816a_5ada_11eb_9128_a708b9cf6f19row5_col11 {\n",
       "            font-size:  6pt;\n",
       "            background-color:  #ffffff;\n",
       "            color:  #000000;\n",
       "        }    #T_b451816a_5ada_11eb_9128_a708b9cf6f19row6_col0 {\n",
       "            font-size:  6pt;\n",
       "            background-color:  #ffffff;\n",
       "            color:  #000000;\n",
       "        }    #T_b451816a_5ada_11eb_9128_a708b9cf6f19row6_col1 {\n",
       "            font-size:  6pt;\n",
       "            background-color:  #ffffff;\n",
       "            color:  #000000;\n",
       "        }    #T_b451816a_5ada_11eb_9128_a708b9cf6f19row6_col2 {\n",
       "            font-size:  6pt;\n",
       "            background-color:  #ffffff;\n",
       "            color:  #000000;\n",
       "        }    #T_b451816a_5ada_11eb_9128_a708b9cf6f19row6_col3 {\n",
       "            font-size:  6pt;\n",
       "            background-color:  #ffffff;\n",
       "            color:  #000000;\n",
       "        }    #T_b451816a_5ada_11eb_9128_a708b9cf6f19row6_col4 {\n",
       "            font-size:  6pt;\n",
       "            background-color:  #c7c7c7;\n",
       "            color:  #000000;\n",
       "        }    #T_b451816a_5ada_11eb_9128_a708b9cf6f19row6_col5 {\n",
       "            font-size:  6pt;\n",
       "            background-color:  #3c3c3c;\n",
       "            color:  #f1f1f1;\n",
       "        }    #T_b451816a_5ada_11eb_9128_a708b9cf6f19row6_col6 {\n",
       "            font-size:  6pt;\n",
       "            background-color:  #000000;\n",
       "            color:  #f1f1f1;\n",
       "        }    #T_b451816a_5ada_11eb_9128_a708b9cf6f19row6_col7 {\n",
       "            font-size:  6pt;\n",
       "            background-color:  #000000;\n",
       "            color:  #f1f1f1;\n",
       "        }    #T_b451816a_5ada_11eb_9128_a708b9cf6f19row6_col8 {\n",
       "            font-size:  6pt;\n",
       "            background-color:  #000000;\n",
       "            color:  #f1f1f1;\n",
       "        }    #T_b451816a_5ada_11eb_9128_a708b9cf6f19row6_col9 {\n",
       "            font-size:  6pt;\n",
       "            background-color:  #000000;\n",
       "            color:  #f1f1f1;\n",
       "        }    #T_b451816a_5ada_11eb_9128_a708b9cf6f19row6_col10 {\n",
       "            font-size:  6pt;\n",
       "            background-color:  #e5e5e5;\n",
       "            color:  #000000;\n",
       "        }    #T_b451816a_5ada_11eb_9128_a708b9cf6f19row6_col11 {\n",
       "            font-size:  6pt;\n",
       "            background-color:  #ffffff;\n",
       "            color:  #000000;\n",
       "        }    #T_b451816a_5ada_11eb_9128_a708b9cf6f19row7_col0 {\n",
       "            font-size:  6pt;\n",
       "            background-color:  #ffffff;\n",
       "            color:  #000000;\n",
       "        }    #T_b451816a_5ada_11eb_9128_a708b9cf6f19row7_col1 {\n",
       "            font-size:  6pt;\n",
       "            background-color:  #ffffff;\n",
       "            color:  #000000;\n",
       "        }    #T_b451816a_5ada_11eb_9128_a708b9cf6f19row7_col2 {\n",
       "            font-size:  6pt;\n",
       "            background-color:  #ffffff;\n",
       "            color:  #000000;\n",
       "        }    #T_b451816a_5ada_11eb_9128_a708b9cf6f19row7_col3 {\n",
       "            font-size:  6pt;\n",
       "            background-color:  #ffffff;\n",
       "            color:  #000000;\n",
       "        }    #T_b451816a_5ada_11eb_9128_a708b9cf6f19row7_col4 {\n",
       "            font-size:  6pt;\n",
       "            background-color:  #ffffff;\n",
       "            color:  #000000;\n",
       "        }    #T_b451816a_5ada_11eb_9128_a708b9cf6f19row7_col5 {\n",
       "            font-size:  6pt;\n",
       "            background-color:  #f4f4f4;\n",
       "            color:  #000000;\n",
       "        }    #T_b451816a_5ada_11eb_9128_a708b9cf6f19row7_col6 {\n",
       "            font-size:  6pt;\n",
       "            background-color:  #383838;\n",
       "            color:  #f1f1f1;\n",
       "        }    #T_b451816a_5ada_11eb_9128_a708b9cf6f19row7_col7 {\n",
       "            font-size:  6pt;\n",
       "            background-color:  #000000;\n",
       "            color:  #f1f1f1;\n",
       "        }    #T_b451816a_5ada_11eb_9128_a708b9cf6f19row7_col8 {\n",
       "            font-size:  6pt;\n",
       "            background-color:  #000000;\n",
       "            color:  #f1f1f1;\n",
       "        }    #T_b451816a_5ada_11eb_9128_a708b9cf6f19row7_col9 {\n",
       "            font-size:  6pt;\n",
       "            background-color:  #000000;\n",
       "            color:  #f1f1f1;\n",
       "        }    #T_b451816a_5ada_11eb_9128_a708b9cf6f19row7_col10 {\n",
       "            font-size:  6pt;\n",
       "            background-color:  #474747;\n",
       "            color:  #f1f1f1;\n",
       "        }    #T_b451816a_5ada_11eb_9128_a708b9cf6f19row7_col11 {\n",
       "            font-size:  6pt;\n",
       "            background-color:  #ffffff;\n",
       "            color:  #000000;\n",
       "        }    #T_b451816a_5ada_11eb_9128_a708b9cf6f19row8_col0 {\n",
       "            font-size:  6pt;\n",
       "            background-color:  #ffffff;\n",
       "            color:  #000000;\n",
       "        }    #T_b451816a_5ada_11eb_9128_a708b9cf6f19row8_col1 {\n",
       "            font-size:  6pt;\n",
       "            background-color:  #ffffff;\n",
       "            color:  #000000;\n",
       "        }    #T_b451816a_5ada_11eb_9128_a708b9cf6f19row8_col2 {\n",
       "            font-size:  6pt;\n",
       "            background-color:  #ffffff;\n",
       "            color:  #000000;\n",
       "        }    #T_b451816a_5ada_11eb_9128_a708b9cf6f19row8_col3 {\n",
       "            font-size:  6pt;\n",
       "            background-color:  #ffffff;\n",
       "            color:  #000000;\n",
       "        }    #T_b451816a_5ada_11eb_9128_a708b9cf6f19row8_col4 {\n",
       "            font-size:  6pt;\n",
       "            background-color:  #c1c1c1;\n",
       "            color:  #000000;\n",
       "        }    #T_b451816a_5ada_11eb_9128_a708b9cf6f19row8_col5 {\n",
       "            font-size:  6pt;\n",
       "            background-color:  #8a8a8a;\n",
       "            color:  #000000;\n",
       "        }    #T_b451816a_5ada_11eb_9128_a708b9cf6f19row8_col6 {\n",
       "            font-size:  6pt;\n",
       "            background-color:  #010101;\n",
       "            color:  #f1f1f1;\n",
       "        }    #T_b451816a_5ada_11eb_9128_a708b9cf6f19row8_col7 {\n",
       "            font-size:  6pt;\n",
       "            background-color:  #000000;\n",
       "            color:  #f1f1f1;\n",
       "        }    #T_b451816a_5ada_11eb_9128_a708b9cf6f19row8_col8 {\n",
       "            font-size:  6pt;\n",
       "            background-color:  #000000;\n",
       "            color:  #f1f1f1;\n",
       "        }    #T_b451816a_5ada_11eb_9128_a708b9cf6f19row8_col9 {\n",
       "            font-size:  6pt;\n",
       "            background-color:  #000000;\n",
       "            color:  #f1f1f1;\n",
       "        }    #T_b451816a_5ada_11eb_9128_a708b9cf6f19row8_col10 {\n",
       "            font-size:  6pt;\n",
       "            background-color:  #939393;\n",
       "            color:  #000000;\n",
       "        }    #T_b451816a_5ada_11eb_9128_a708b9cf6f19row8_col11 {\n",
       "            font-size:  6pt;\n",
       "            background-color:  #ffffff;\n",
       "            color:  #000000;\n",
       "        }    #T_b451816a_5ada_11eb_9128_a708b9cf6f19row9_col0 {\n",
       "            font-size:  6pt;\n",
       "            background-color:  #ffffff;\n",
       "            color:  #000000;\n",
       "        }    #T_b451816a_5ada_11eb_9128_a708b9cf6f19row9_col1 {\n",
       "            font-size:  6pt;\n",
       "            background-color:  #ffffff;\n",
       "            color:  #000000;\n",
       "        }    #T_b451816a_5ada_11eb_9128_a708b9cf6f19row9_col2 {\n",
       "            font-size:  6pt;\n",
       "            background-color:  #b9b9b9;\n",
       "            color:  #000000;\n",
       "        }    #T_b451816a_5ada_11eb_9128_a708b9cf6f19row9_col3 {\n",
       "            font-size:  6pt;\n",
       "            background-color:  #282828;\n",
       "            color:  #f1f1f1;\n",
       "        }    #T_b451816a_5ada_11eb_9128_a708b9cf6f19row9_col4 {\n",
       "            font-size:  6pt;\n",
       "            background-color:  #050505;\n",
       "            color:  #f1f1f1;\n",
       "        }    #T_b451816a_5ada_11eb_9128_a708b9cf6f19row9_col5 {\n",
       "            font-size:  6pt;\n",
       "            background-color:  #000000;\n",
       "            color:  #f1f1f1;\n",
       "        }    #T_b451816a_5ada_11eb_9128_a708b9cf6f19row9_col6 {\n",
       "            font-size:  6pt;\n",
       "            background-color:  #000000;\n",
       "            color:  #f1f1f1;\n",
       "        }    #T_b451816a_5ada_11eb_9128_a708b9cf6f19row9_col7 {\n",
       "            font-size:  6pt;\n",
       "            background-color:  #000000;\n",
       "            color:  #f1f1f1;\n",
       "        }    #T_b451816a_5ada_11eb_9128_a708b9cf6f19row9_col8 {\n",
       "            font-size:  6pt;\n",
       "            background-color:  #000000;\n",
       "            color:  #f1f1f1;\n",
       "        }    #T_b451816a_5ada_11eb_9128_a708b9cf6f19row9_col9 {\n",
       "            font-size:  6pt;\n",
       "            background-color:  #000000;\n",
       "            color:  #f1f1f1;\n",
       "        }    #T_b451816a_5ada_11eb_9128_a708b9cf6f19row9_col10 {\n",
       "            font-size:  6pt;\n",
       "            background-color:  #ebebeb;\n",
       "            color:  #000000;\n",
       "        }    #T_b451816a_5ada_11eb_9128_a708b9cf6f19row9_col11 {\n",
       "            font-size:  6pt;\n",
       "            background-color:  #ffffff;\n",
       "            color:  #000000;\n",
       "        }    #T_b451816a_5ada_11eb_9128_a708b9cf6f19row10_col0 {\n",
       "            font-size:  6pt;\n",
       "            background-color:  #ffffff;\n",
       "            color:  #000000;\n",
       "        }    #T_b451816a_5ada_11eb_9128_a708b9cf6f19row10_col1 {\n",
       "            font-size:  6pt;\n",
       "            background-color:  #ffffff;\n",
       "            color:  #000000;\n",
       "        }    #T_b451816a_5ada_11eb_9128_a708b9cf6f19row10_col2 {\n",
       "            font-size:  6pt;\n",
       "            background-color:  #444444;\n",
       "            color:  #f1f1f1;\n",
       "        }    #T_b451816a_5ada_11eb_9128_a708b9cf6f19row10_col3 {\n",
       "            font-size:  6pt;\n",
       "            background-color:  #000000;\n",
       "            color:  #f1f1f1;\n",
       "        }    #T_b451816a_5ada_11eb_9128_a708b9cf6f19row10_col4 {\n",
       "            font-size:  6pt;\n",
       "            background-color:  #000000;\n",
       "            color:  #f1f1f1;\n",
       "        }    #T_b451816a_5ada_11eb_9128_a708b9cf6f19row10_col5 {\n",
       "            font-size:  6pt;\n",
       "            background-color:  #000000;\n",
       "            color:  #f1f1f1;\n",
       "        }    #T_b451816a_5ada_11eb_9128_a708b9cf6f19row10_col6 {\n",
       "            font-size:  6pt;\n",
       "            background-color:  #000000;\n",
       "            color:  #f1f1f1;\n",
       "        }    #T_b451816a_5ada_11eb_9128_a708b9cf6f19row10_col7 {\n",
       "            font-size:  6pt;\n",
       "            background-color:  #000000;\n",
       "            color:  #f1f1f1;\n",
       "        }    #T_b451816a_5ada_11eb_9128_a708b9cf6f19row10_col8 {\n",
       "            font-size:  6pt;\n",
       "            background-color:  #000000;\n",
       "            color:  #f1f1f1;\n",
       "        }    #T_b451816a_5ada_11eb_9128_a708b9cf6f19row10_col9 {\n",
       "            font-size:  6pt;\n",
       "            background-color:  #000000;\n",
       "            color:  #f1f1f1;\n",
       "        }    #T_b451816a_5ada_11eb_9128_a708b9cf6f19row10_col10 {\n",
       "            font-size:  6pt;\n",
       "            background-color:  #686868;\n",
       "            color:  #f1f1f1;\n",
       "        }    #T_b451816a_5ada_11eb_9128_a708b9cf6f19row10_col11 {\n",
       "            font-size:  6pt;\n",
       "            background-color:  #ffffff;\n",
       "            color:  #000000;\n",
       "        }    #T_b451816a_5ada_11eb_9128_a708b9cf6f19row11_col0 {\n",
       "            font-size:  6pt;\n",
       "            background-color:  #ffffff;\n",
       "            color:  #000000;\n",
       "        }    #T_b451816a_5ada_11eb_9128_a708b9cf6f19row11_col1 {\n",
       "            font-size:  6pt;\n",
       "            background-color:  #ffffff;\n",
       "            color:  #000000;\n",
       "        }    #T_b451816a_5ada_11eb_9128_a708b9cf6f19row11_col2 {\n",
       "            font-size:  6pt;\n",
       "            background-color:  #ffffff;\n",
       "            color:  #000000;\n",
       "        }    #T_b451816a_5ada_11eb_9128_a708b9cf6f19row11_col3 {\n",
       "            font-size:  6pt;\n",
       "            background-color:  #a7a7a7;\n",
       "            color:  #000000;\n",
       "        }    #T_b451816a_5ada_11eb_9128_a708b9cf6f19row11_col4 {\n",
       "            font-size:  6pt;\n",
       "            background-color:  #090909;\n",
       "            color:  #f1f1f1;\n",
       "        }    #T_b451816a_5ada_11eb_9128_a708b9cf6f19row11_col5 {\n",
       "            font-size:  6pt;\n",
       "            background-color:  #000000;\n",
       "            color:  #f1f1f1;\n",
       "        }    #T_b451816a_5ada_11eb_9128_a708b9cf6f19row11_col6 {\n",
       "            font-size:  6pt;\n",
       "            background-color:  #000000;\n",
       "            color:  #f1f1f1;\n",
       "        }    #T_b451816a_5ada_11eb_9128_a708b9cf6f19row11_col7 {\n",
       "            font-size:  6pt;\n",
       "            background-color:  #000000;\n",
       "            color:  #f1f1f1;\n",
       "        }    #T_b451816a_5ada_11eb_9128_a708b9cf6f19row11_col8 {\n",
       "            font-size:  6pt;\n",
       "            background-color:  #000000;\n",
       "            color:  #f1f1f1;\n",
       "        }    #T_b451816a_5ada_11eb_9128_a708b9cf6f19row11_col9 {\n",
       "            font-size:  6pt;\n",
       "            background-color:  #000000;\n",
       "            color:  #f1f1f1;\n",
       "        }    #T_b451816a_5ada_11eb_9128_a708b9cf6f19row11_col10 {\n",
       "            font-size:  6pt;\n",
       "            background-color:  #474747;\n",
       "            color:  #f1f1f1;\n",
       "        }    #T_b451816a_5ada_11eb_9128_a708b9cf6f19row11_col11 {\n",
       "            font-size:  6pt;\n",
       "            background-color:  #ffffff;\n",
       "            color:  #000000;\n",
       "        }    #T_b451816a_5ada_11eb_9128_a708b9cf6f19row12_col0 {\n",
       "            font-size:  6pt;\n",
       "            background-color:  #ffffff;\n",
       "            color:  #000000;\n",
       "        }    #T_b451816a_5ada_11eb_9128_a708b9cf6f19row12_col1 {\n",
       "            font-size:  6pt;\n",
       "            background-color:  #ffffff;\n",
       "            color:  #000000;\n",
       "        }    #T_b451816a_5ada_11eb_9128_a708b9cf6f19row12_col2 {\n",
       "            font-size:  6pt;\n",
       "            background-color:  #ffffff;\n",
       "            color:  #000000;\n",
       "        }    #T_b451816a_5ada_11eb_9128_a708b9cf6f19row12_col3 {\n",
       "            font-size:  6pt;\n",
       "            background-color:  #ffffff;\n",
       "            color:  #000000;\n",
       "        }    #T_b451816a_5ada_11eb_9128_a708b9cf6f19row12_col4 {\n",
       "            font-size:  6pt;\n",
       "            background-color:  #d1d1d1;\n",
       "            color:  #000000;\n",
       "        }    #T_b451816a_5ada_11eb_9128_a708b9cf6f19row12_col5 {\n",
       "            font-size:  6pt;\n",
       "            background-color:  #c3c3c3;\n",
       "            color:  #000000;\n",
       "        }    #T_b451816a_5ada_11eb_9128_a708b9cf6f19row12_col6 {\n",
       "            font-size:  6pt;\n",
       "            background-color:  #c3c3c3;\n",
       "            color:  #000000;\n",
       "        }    #T_b451816a_5ada_11eb_9128_a708b9cf6f19row12_col7 {\n",
       "            font-size:  6pt;\n",
       "            background-color:  #bfbfbf;\n",
       "            color:  #000000;\n",
       "        }    #T_b451816a_5ada_11eb_9128_a708b9cf6f19row12_col8 {\n",
       "            font-size:  6pt;\n",
       "            background-color:  #101010;\n",
       "            color:  #f1f1f1;\n",
       "        }    #T_b451816a_5ada_11eb_9128_a708b9cf6f19row12_col9 {\n",
       "            font-size:  6pt;\n",
       "            background-color:  #000000;\n",
       "            color:  #f1f1f1;\n",
       "        }    #T_b451816a_5ada_11eb_9128_a708b9cf6f19row12_col10 {\n",
       "            font-size:  6pt;\n",
       "            background-color:  #474747;\n",
       "            color:  #f1f1f1;\n",
       "        }    #T_b451816a_5ada_11eb_9128_a708b9cf6f19row12_col11 {\n",
       "            font-size:  6pt;\n",
       "            background-color:  #ffffff;\n",
       "            color:  #000000;\n",
       "        }    #T_b451816a_5ada_11eb_9128_a708b9cf6f19row13_col0 {\n",
       "            font-size:  6pt;\n",
       "            background-color:  #ffffff;\n",
       "            color:  #000000;\n",
       "        }    #T_b451816a_5ada_11eb_9128_a708b9cf6f19row13_col1 {\n",
       "            font-size:  6pt;\n",
       "            background-color:  #ffffff;\n",
       "            color:  #000000;\n",
       "        }    #T_b451816a_5ada_11eb_9128_a708b9cf6f19row13_col2 {\n",
       "            font-size:  6pt;\n",
       "            background-color:  #ffffff;\n",
       "            color:  #000000;\n",
       "        }    #T_b451816a_5ada_11eb_9128_a708b9cf6f19row13_col3 {\n",
       "            font-size:  6pt;\n",
       "            background-color:  #ffffff;\n",
       "            color:  #000000;\n",
       "        }    #T_b451816a_5ada_11eb_9128_a708b9cf6f19row13_col4 {\n",
       "            font-size:  6pt;\n",
       "            background-color:  #ffffff;\n",
       "            color:  #000000;\n",
       "        }    #T_b451816a_5ada_11eb_9128_a708b9cf6f19row13_col5 {\n",
       "            font-size:  6pt;\n",
       "            background-color:  #ffffff;\n",
       "            color:  #000000;\n",
       "        }    #T_b451816a_5ada_11eb_9128_a708b9cf6f19row13_col6 {\n",
       "            font-size:  6pt;\n",
       "            background-color:  #ffffff;\n",
       "            color:  #000000;\n",
       "        }    #T_b451816a_5ada_11eb_9128_a708b9cf6f19row13_col7 {\n",
       "            font-size:  6pt;\n",
       "            background-color:  #ffffff;\n",
       "            color:  #000000;\n",
       "        }    #T_b451816a_5ada_11eb_9128_a708b9cf6f19row13_col8 {\n",
       "            font-size:  6pt;\n",
       "            background-color:  #949494;\n",
       "            color:  #000000;\n",
       "        }    #T_b451816a_5ada_11eb_9128_a708b9cf6f19row13_col9 {\n",
       "            font-size:  6pt;\n",
       "            background-color:  #000000;\n",
       "            color:  #f1f1f1;\n",
       "        }    #T_b451816a_5ada_11eb_9128_a708b9cf6f19row13_col10 {\n",
       "            font-size:  6pt;\n",
       "            background-color:  #000000;\n",
       "            color:  #f1f1f1;\n",
       "        }    #T_b451816a_5ada_11eb_9128_a708b9cf6f19row13_col11 {\n",
       "            font-size:  6pt;\n",
       "            background-color:  #000000;\n",
       "            color:  #f1f1f1;\n",
       "        }    #T_b451816a_5ada_11eb_9128_a708b9cf6f19row14_col0 {\n",
       "            font-size:  6pt;\n",
       "            background-color:  #ffffff;\n",
       "            color:  #000000;\n",
       "        }    #T_b451816a_5ada_11eb_9128_a708b9cf6f19row14_col1 {\n",
       "            font-size:  6pt;\n",
       "            background-color:  #ffffff;\n",
       "            color:  #000000;\n",
       "        }    #T_b451816a_5ada_11eb_9128_a708b9cf6f19row14_col2 {\n",
       "            font-size:  6pt;\n",
       "            background-color:  #ffffff;\n",
       "            color:  #000000;\n",
       "        }    #T_b451816a_5ada_11eb_9128_a708b9cf6f19row14_col3 {\n",
       "            font-size:  6pt;\n",
       "            background-color:  #ffffff;\n",
       "            color:  #000000;\n",
       "        }    #T_b451816a_5ada_11eb_9128_a708b9cf6f19row14_col4 {\n",
       "            font-size:  6pt;\n",
       "            background-color:  #ffffff;\n",
       "            color:  #000000;\n",
       "        }    #T_b451816a_5ada_11eb_9128_a708b9cf6f19row14_col5 {\n",
       "            font-size:  6pt;\n",
       "            background-color:  #ffffff;\n",
       "            color:  #000000;\n",
       "        }    #T_b451816a_5ada_11eb_9128_a708b9cf6f19row14_col6 {\n",
       "            font-size:  6pt;\n",
       "            background-color:  #ffffff;\n",
       "            color:  #000000;\n",
       "        }    #T_b451816a_5ada_11eb_9128_a708b9cf6f19row14_col7 {\n",
       "            font-size:  6pt;\n",
       "            background-color:  #fcfcfc;\n",
       "            color:  #000000;\n",
       "        }    #T_b451816a_5ada_11eb_9128_a708b9cf6f19row14_col8 {\n",
       "            font-size:  6pt;\n",
       "            background-color:  #000000;\n",
       "            color:  #f1f1f1;\n",
       "        }    #T_b451816a_5ada_11eb_9128_a708b9cf6f19row14_col9 {\n",
       "            font-size:  6pt;\n",
       "            background-color:  #000000;\n",
       "            color:  #f1f1f1;\n",
       "        }    #T_b451816a_5ada_11eb_9128_a708b9cf6f19row14_col10 {\n",
       "            font-size:  6pt;\n",
       "            background-color:  #060606;\n",
       "            color:  #f1f1f1;\n",
       "        }    #T_b451816a_5ada_11eb_9128_a708b9cf6f19row14_col11 {\n",
       "            font-size:  6pt;\n",
       "            background-color:  #1c1c1c;\n",
       "            color:  #f1f1f1;\n",
       "        }    #T_b451816a_5ada_11eb_9128_a708b9cf6f19row15_col0 {\n",
       "            font-size:  6pt;\n",
       "            background-color:  #ffffff;\n",
       "            color:  #000000;\n",
       "        }    #T_b451816a_5ada_11eb_9128_a708b9cf6f19row15_col1 {\n",
       "            font-size:  6pt;\n",
       "            background-color:  #ffffff;\n",
       "            color:  #000000;\n",
       "        }    #T_b451816a_5ada_11eb_9128_a708b9cf6f19row15_col2 {\n",
       "            font-size:  6pt;\n",
       "            background-color:  #ffffff;\n",
       "            color:  #000000;\n",
       "        }    #T_b451816a_5ada_11eb_9128_a708b9cf6f19row15_col3 {\n",
       "            font-size:  6pt;\n",
       "            background-color:  #ffffff;\n",
       "            color:  #000000;\n",
       "        }    #T_b451816a_5ada_11eb_9128_a708b9cf6f19row15_col4 {\n",
       "            font-size:  6pt;\n",
       "            background-color:  #ffffff;\n",
       "            color:  #000000;\n",
       "        }    #T_b451816a_5ada_11eb_9128_a708b9cf6f19row15_col5 {\n",
       "            font-size:  6pt;\n",
       "            background-color:  #ffffff;\n",
       "            color:  #000000;\n",
       "        }    #T_b451816a_5ada_11eb_9128_a708b9cf6f19row15_col6 {\n",
       "            font-size:  6pt;\n",
       "            background-color:  #ffffff;\n",
       "            color:  #000000;\n",
       "        }    #T_b451816a_5ada_11eb_9128_a708b9cf6f19row15_col7 {\n",
       "            font-size:  6pt;\n",
       "            background-color:  #898989;\n",
       "            color:  #000000;\n",
       "        }    #T_b451816a_5ada_11eb_9128_a708b9cf6f19row15_col8 {\n",
       "            font-size:  6pt;\n",
       "            background-color:  #000000;\n",
       "            color:  #f1f1f1;\n",
       "        }    #T_b451816a_5ada_11eb_9128_a708b9cf6f19row15_col9 {\n",
       "            font-size:  6pt;\n",
       "            background-color:  #000000;\n",
       "            color:  #f1f1f1;\n",
       "        }    #T_b451816a_5ada_11eb_9128_a708b9cf6f19row15_col10 {\n",
       "            font-size:  6pt;\n",
       "            background-color:  #8e8e8e;\n",
       "            color:  #000000;\n",
       "        }    #T_b451816a_5ada_11eb_9128_a708b9cf6f19row15_col11 {\n",
       "            font-size:  6pt;\n",
       "            background-color:  #ffffff;\n",
       "            color:  #000000;\n",
       "        }    #T_b451816a_5ada_11eb_9128_a708b9cf6f19row16_col0 {\n",
       "            font-size:  6pt;\n",
       "            background-color:  #000000;\n",
       "            color:  #f1f1f1;\n",
       "        }    #T_b451816a_5ada_11eb_9128_a708b9cf6f19row16_col1 {\n",
       "            font-size:  6pt;\n",
       "            background-color:  #ffffff;\n",
       "            color:  #000000;\n",
       "        }    #T_b451816a_5ada_11eb_9128_a708b9cf6f19row16_col2 {\n",
       "            font-size:  6pt;\n",
       "            background-color:  #ffffff;\n",
       "            color:  #000000;\n",
       "        }    #T_b451816a_5ada_11eb_9128_a708b9cf6f19row16_col3 {\n",
       "            font-size:  6pt;\n",
       "            background-color:  #ffffff;\n",
       "            color:  #000000;\n",
       "        }    #T_b451816a_5ada_11eb_9128_a708b9cf6f19row16_col4 {\n",
       "            font-size:  6pt;\n",
       "            background-color:  #ffffff;\n",
       "            color:  #000000;\n",
       "        }    #T_b451816a_5ada_11eb_9128_a708b9cf6f19row16_col5 {\n",
       "            font-size:  6pt;\n",
       "            background-color:  #ffffff;\n",
       "            color:  #000000;\n",
       "        }    #T_b451816a_5ada_11eb_9128_a708b9cf6f19row16_col6 {\n",
       "            font-size:  6pt;\n",
       "            background-color:  #f3f3f3;\n",
       "            color:  #000000;\n",
       "        }    #T_b451816a_5ada_11eb_9128_a708b9cf6f19row16_col7 {\n",
       "            font-size:  6pt;\n",
       "            background-color:  #101010;\n",
       "            color:  #f1f1f1;\n",
       "        }    #T_b451816a_5ada_11eb_9128_a708b9cf6f19row16_col8 {\n",
       "            font-size:  6pt;\n",
       "            background-color:  #000000;\n",
       "            color:  #f1f1f1;\n",
       "        }    #T_b451816a_5ada_11eb_9128_a708b9cf6f19row16_col9 {\n",
       "            font-size:  6pt;\n",
       "            background-color:  #000000;\n",
       "            color:  #f1f1f1;\n",
       "        }    #T_b451816a_5ada_11eb_9128_a708b9cf6f19row16_col10 {\n",
       "            font-size:  6pt;\n",
       "            background-color:  #ebebeb;\n",
       "            color:  #000000;\n",
       "        }    #T_b451816a_5ada_11eb_9128_a708b9cf6f19row16_col11 {\n",
       "            font-size:  6pt;\n",
       "            background-color:  #ffffff;\n",
       "            color:  #000000;\n",
       "        }</style><table id=\"T_b451816a_5ada_11eb_9128_a708b9cf6f19\" ><thead>    <tr>        <th class=\"blank level0\" ></th>        <th class=\"col_heading level0 col0\" >0</th>        <th class=\"col_heading level0 col1\" >1</th>        <th class=\"col_heading level0 col2\" >2</th>        <th class=\"col_heading level0 col3\" >3</th>        <th class=\"col_heading level0 col4\" >4</th>        <th class=\"col_heading level0 col5\" >5</th>        <th class=\"col_heading level0 col6\" >6</th>        <th class=\"col_heading level0 col7\" >7</th>        <th class=\"col_heading level0 col8\" >8</th>        <th class=\"col_heading level0 col9\" >9</th>        <th class=\"col_heading level0 col10\" >10</th>        <th class=\"col_heading level0 col11\" >11</th>    </tr></thead><tbody>\n",
       "                <tr>\n",
       "                        <th id=\"T_b451816a_5ada_11eb_9128_a708b9cf6f19level0_row0\" class=\"row_heading level0 row0\" >0</th>\n",
       "                        <td id=\"T_b451816a_5ada_11eb_9128_a708b9cf6f19row0_col0\" class=\"data row0 col0\" >0</td>\n",
       "                        <td id=\"T_b451816a_5ada_11eb_9128_a708b9cf6f19row0_col1\" class=\"data row0 col1\" >0</td>\n",
       "                        <td id=\"T_b451816a_5ada_11eb_9128_a708b9cf6f19row0_col2\" class=\"data row0 col2\" >0</td>\n",
       "                        <td id=\"T_b451816a_5ada_11eb_9128_a708b9cf6f19row0_col3\" class=\"data row0 col3\" >0</td>\n",
       "                        <td id=\"T_b451816a_5ada_11eb_9128_a708b9cf6f19row0_col4\" class=\"data row0 col4\" >0</td>\n",
       "                        <td id=\"T_b451816a_5ada_11eb_9128_a708b9cf6f19row0_col5\" class=\"data row0 col5\" >0</td>\n",
       "                        <td id=\"T_b451816a_5ada_11eb_9128_a708b9cf6f19row0_col6\" class=\"data row0 col6\" >0</td>\n",
       "                        <td id=\"T_b451816a_5ada_11eb_9128_a708b9cf6f19row0_col7\" class=\"data row0 col7\" >0</td>\n",
       "                        <td id=\"T_b451816a_5ada_11eb_9128_a708b9cf6f19row0_col8\" class=\"data row0 col8\" >0</td>\n",
       "                        <td id=\"T_b451816a_5ada_11eb_9128_a708b9cf6f19row0_col9\" class=\"data row0 col9\" >0</td>\n",
       "                        <td id=\"T_b451816a_5ada_11eb_9128_a708b9cf6f19row0_col10\" class=\"data row0 col10\" >0</td>\n",
       "                        <td id=\"T_b451816a_5ada_11eb_9128_a708b9cf6f19row0_col11\" class=\"data row0 col11\" >0</td>\n",
       "            </tr>\n",
       "            <tr>\n",
       "                        <th id=\"T_b451816a_5ada_11eb_9128_a708b9cf6f19level0_row1\" class=\"row_heading level0 row1\" >1</th>\n",
       "                        <td id=\"T_b451816a_5ada_11eb_9128_a708b9cf6f19row1_col0\" class=\"data row1 col0\" >0</td>\n",
       "                        <td id=\"T_b451816a_5ada_11eb_9128_a708b9cf6f19row1_col1\" class=\"data row1 col1\" >0</td>\n",
       "                        <td id=\"T_b451816a_5ada_11eb_9128_a708b9cf6f19row1_col2\" class=\"data row1 col2\" >0</td>\n",
       "                        <td id=\"T_b451816a_5ada_11eb_9128_a708b9cf6f19row1_col3\" class=\"data row1 col3\" >42</td>\n",
       "                        <td id=\"T_b451816a_5ada_11eb_9128_a708b9cf6f19row1_col4\" class=\"data row1 col4\" >118</td>\n",
       "                        <td id=\"T_b451816a_5ada_11eb_9128_a708b9cf6f19row1_col5\" class=\"data row1 col5\" >219</td>\n",
       "                        <td id=\"T_b451816a_5ada_11eb_9128_a708b9cf6f19row1_col6\" class=\"data row1 col6\" >166</td>\n",
       "                        <td id=\"T_b451816a_5ada_11eb_9128_a708b9cf6f19row1_col7\" class=\"data row1 col7\" >118</td>\n",
       "                        <td id=\"T_b451816a_5ada_11eb_9128_a708b9cf6f19row1_col8\" class=\"data row1 col8\" >118</td>\n",
       "                        <td id=\"T_b451816a_5ada_11eb_9128_a708b9cf6f19row1_col9\" class=\"data row1 col9\" >6</td>\n",
       "                        <td id=\"T_b451816a_5ada_11eb_9128_a708b9cf6f19row1_col10\" class=\"data row1 col10\" >0</td>\n",
       "                        <td id=\"T_b451816a_5ada_11eb_9128_a708b9cf6f19row1_col11\" class=\"data row1 col11\" >0</td>\n",
       "            </tr>\n",
       "            <tr>\n",
       "                        <th id=\"T_b451816a_5ada_11eb_9128_a708b9cf6f19level0_row2\" class=\"row_heading level0 row2\" >2</th>\n",
       "                        <td id=\"T_b451816a_5ada_11eb_9128_a708b9cf6f19row2_col0\" class=\"data row2 col0\" >0</td>\n",
       "                        <td id=\"T_b451816a_5ada_11eb_9128_a708b9cf6f19row2_col1\" class=\"data row2 col1\" >0</td>\n",
       "                        <td id=\"T_b451816a_5ada_11eb_9128_a708b9cf6f19row2_col2\" class=\"data row2 col2\" >103</td>\n",
       "                        <td id=\"T_b451816a_5ada_11eb_9128_a708b9cf6f19row2_col3\" class=\"data row2 col3\" >242</td>\n",
       "                        <td id=\"T_b451816a_5ada_11eb_9128_a708b9cf6f19row2_col4\" class=\"data row2 col4\" >254</td>\n",
       "                        <td id=\"T_b451816a_5ada_11eb_9128_a708b9cf6f19row2_col5\" class=\"data row2 col5\" >254</td>\n",
       "                        <td id=\"T_b451816a_5ada_11eb_9128_a708b9cf6f19row2_col6\" class=\"data row2 col6\" >254</td>\n",
       "                        <td id=\"T_b451816a_5ada_11eb_9128_a708b9cf6f19row2_col7\" class=\"data row2 col7\" >254</td>\n",
       "                        <td id=\"T_b451816a_5ada_11eb_9128_a708b9cf6f19row2_col8\" class=\"data row2 col8\" >254</td>\n",
       "                        <td id=\"T_b451816a_5ada_11eb_9128_a708b9cf6f19row2_col9\" class=\"data row2 col9\" >66</td>\n",
       "                        <td id=\"T_b451816a_5ada_11eb_9128_a708b9cf6f19row2_col10\" class=\"data row2 col10\" >0</td>\n",
       "                        <td id=\"T_b451816a_5ada_11eb_9128_a708b9cf6f19row2_col11\" class=\"data row2 col11\" >0</td>\n",
       "            </tr>\n",
       "            <tr>\n",
       "                        <th id=\"T_b451816a_5ada_11eb_9128_a708b9cf6f19level0_row3\" class=\"row_heading level0 row3\" >3</th>\n",
       "                        <td id=\"T_b451816a_5ada_11eb_9128_a708b9cf6f19row3_col0\" class=\"data row3 col0\" >0</td>\n",
       "                        <td id=\"T_b451816a_5ada_11eb_9128_a708b9cf6f19row3_col1\" class=\"data row3 col1\" >0</td>\n",
       "                        <td id=\"T_b451816a_5ada_11eb_9128_a708b9cf6f19row3_col2\" class=\"data row3 col2\" >18</td>\n",
       "                        <td id=\"T_b451816a_5ada_11eb_9128_a708b9cf6f19row3_col3\" class=\"data row3 col3\" >232</td>\n",
       "                        <td id=\"T_b451816a_5ada_11eb_9128_a708b9cf6f19row3_col4\" class=\"data row3 col4\" >254</td>\n",
       "                        <td id=\"T_b451816a_5ada_11eb_9128_a708b9cf6f19row3_col5\" class=\"data row3 col5\" >254</td>\n",
       "                        <td id=\"T_b451816a_5ada_11eb_9128_a708b9cf6f19row3_col6\" class=\"data row3 col6\" >254</td>\n",
       "                        <td id=\"T_b451816a_5ada_11eb_9128_a708b9cf6f19row3_col7\" class=\"data row3 col7\" >254</td>\n",
       "                        <td id=\"T_b451816a_5ada_11eb_9128_a708b9cf6f19row3_col8\" class=\"data row3 col8\" >254</td>\n",
       "                        <td id=\"T_b451816a_5ada_11eb_9128_a708b9cf6f19row3_col9\" class=\"data row3 col9\" >238</td>\n",
       "                        <td id=\"T_b451816a_5ada_11eb_9128_a708b9cf6f19row3_col10\" class=\"data row3 col10\" >70</td>\n",
       "                        <td id=\"T_b451816a_5ada_11eb_9128_a708b9cf6f19row3_col11\" class=\"data row3 col11\" >0</td>\n",
       "            </tr>\n",
       "            <tr>\n",
       "                        <th id=\"T_b451816a_5ada_11eb_9128_a708b9cf6f19level0_row4\" class=\"row_heading level0 row4\" >4</th>\n",
       "                        <td id=\"T_b451816a_5ada_11eb_9128_a708b9cf6f19row4_col0\" class=\"data row4 col0\" >0</td>\n",
       "                        <td id=\"T_b451816a_5ada_11eb_9128_a708b9cf6f19row4_col1\" class=\"data row4 col1\" >0</td>\n",
       "                        <td id=\"T_b451816a_5ada_11eb_9128_a708b9cf6f19row4_col2\" class=\"data row4 col2\" >0</td>\n",
       "                        <td id=\"T_b451816a_5ada_11eb_9128_a708b9cf6f19row4_col3\" class=\"data row4 col3\" >104</td>\n",
       "                        <td id=\"T_b451816a_5ada_11eb_9128_a708b9cf6f19row4_col4\" class=\"data row4 col4\" >244</td>\n",
       "                        <td id=\"T_b451816a_5ada_11eb_9128_a708b9cf6f19row4_col5\" class=\"data row4 col5\" >254</td>\n",
       "                        <td id=\"T_b451816a_5ada_11eb_9128_a708b9cf6f19row4_col6\" class=\"data row4 col6\" >224</td>\n",
       "                        <td id=\"T_b451816a_5ada_11eb_9128_a708b9cf6f19row4_col7\" class=\"data row4 col7\" >254</td>\n",
       "                        <td id=\"T_b451816a_5ada_11eb_9128_a708b9cf6f19row4_col8\" class=\"data row4 col8\" >254</td>\n",
       "                        <td id=\"T_b451816a_5ada_11eb_9128_a708b9cf6f19row4_col9\" class=\"data row4 col9\" >254</td>\n",
       "                        <td id=\"T_b451816a_5ada_11eb_9128_a708b9cf6f19row4_col10\" class=\"data row4 col10\" >141</td>\n",
       "                        <td id=\"T_b451816a_5ada_11eb_9128_a708b9cf6f19row4_col11\" class=\"data row4 col11\" >0</td>\n",
       "            </tr>\n",
       "            <tr>\n",
       "                        <th id=\"T_b451816a_5ada_11eb_9128_a708b9cf6f19level0_row5\" class=\"row_heading level0 row5\" >5</th>\n",
       "                        <td id=\"T_b451816a_5ada_11eb_9128_a708b9cf6f19row5_col0\" class=\"data row5 col0\" >0</td>\n",
       "                        <td id=\"T_b451816a_5ada_11eb_9128_a708b9cf6f19row5_col1\" class=\"data row5 col1\" >0</td>\n",
       "                        <td id=\"T_b451816a_5ada_11eb_9128_a708b9cf6f19row5_col2\" class=\"data row5 col2\" >0</td>\n",
       "                        <td id=\"T_b451816a_5ada_11eb_9128_a708b9cf6f19row5_col3\" class=\"data row5 col3\" >0</td>\n",
       "                        <td id=\"T_b451816a_5ada_11eb_9128_a708b9cf6f19row5_col4\" class=\"data row5 col4\" >207</td>\n",
       "                        <td id=\"T_b451816a_5ada_11eb_9128_a708b9cf6f19row5_col5\" class=\"data row5 col5\" >254</td>\n",
       "                        <td id=\"T_b451816a_5ada_11eb_9128_a708b9cf6f19row5_col6\" class=\"data row5 col6\" >210</td>\n",
       "                        <td id=\"T_b451816a_5ada_11eb_9128_a708b9cf6f19row5_col7\" class=\"data row5 col7\" >254</td>\n",
       "                        <td id=\"T_b451816a_5ada_11eb_9128_a708b9cf6f19row5_col8\" class=\"data row5 col8\" >254</td>\n",
       "                        <td id=\"T_b451816a_5ada_11eb_9128_a708b9cf6f19row5_col9\" class=\"data row5 col9\" >254</td>\n",
       "                        <td id=\"T_b451816a_5ada_11eb_9128_a708b9cf6f19row5_col10\" class=\"data row5 col10\" >34</td>\n",
       "                        <td id=\"T_b451816a_5ada_11eb_9128_a708b9cf6f19row5_col11\" class=\"data row5 col11\" >0</td>\n",
       "            </tr>\n",
       "            <tr>\n",
       "                        <th id=\"T_b451816a_5ada_11eb_9128_a708b9cf6f19level0_row6\" class=\"row_heading level0 row6\" >6</th>\n",
       "                        <td id=\"T_b451816a_5ada_11eb_9128_a708b9cf6f19row6_col0\" class=\"data row6 col0\" >0</td>\n",
       "                        <td id=\"T_b451816a_5ada_11eb_9128_a708b9cf6f19row6_col1\" class=\"data row6 col1\" >0</td>\n",
       "                        <td id=\"T_b451816a_5ada_11eb_9128_a708b9cf6f19row6_col2\" class=\"data row6 col2\" >0</td>\n",
       "                        <td id=\"T_b451816a_5ada_11eb_9128_a708b9cf6f19row6_col3\" class=\"data row6 col3\" >0</td>\n",
       "                        <td id=\"T_b451816a_5ada_11eb_9128_a708b9cf6f19row6_col4\" class=\"data row6 col4\" >84</td>\n",
       "                        <td id=\"T_b451816a_5ada_11eb_9128_a708b9cf6f19row6_col5\" class=\"data row6 col5\" >206</td>\n",
       "                        <td id=\"T_b451816a_5ada_11eb_9128_a708b9cf6f19row6_col6\" class=\"data row6 col6\" >254</td>\n",
       "                        <td id=\"T_b451816a_5ada_11eb_9128_a708b9cf6f19row6_col7\" class=\"data row6 col7\" >254</td>\n",
       "                        <td id=\"T_b451816a_5ada_11eb_9128_a708b9cf6f19row6_col8\" class=\"data row6 col8\" >254</td>\n",
       "                        <td id=\"T_b451816a_5ada_11eb_9128_a708b9cf6f19row6_col9\" class=\"data row6 col9\" >254</td>\n",
       "                        <td id=\"T_b451816a_5ada_11eb_9128_a708b9cf6f19row6_col10\" class=\"data row6 col10\" >41</td>\n",
       "                        <td id=\"T_b451816a_5ada_11eb_9128_a708b9cf6f19row6_col11\" class=\"data row6 col11\" >0</td>\n",
       "            </tr>\n",
       "            <tr>\n",
       "                        <th id=\"T_b451816a_5ada_11eb_9128_a708b9cf6f19level0_row7\" class=\"row_heading level0 row7\" >7</th>\n",
       "                        <td id=\"T_b451816a_5ada_11eb_9128_a708b9cf6f19row7_col0\" class=\"data row7 col0\" >0</td>\n",
       "                        <td id=\"T_b451816a_5ada_11eb_9128_a708b9cf6f19row7_col1\" class=\"data row7 col1\" >0</td>\n",
       "                        <td id=\"T_b451816a_5ada_11eb_9128_a708b9cf6f19row7_col2\" class=\"data row7 col2\" >0</td>\n",
       "                        <td id=\"T_b451816a_5ada_11eb_9128_a708b9cf6f19row7_col3\" class=\"data row7 col3\" >0</td>\n",
       "                        <td id=\"T_b451816a_5ada_11eb_9128_a708b9cf6f19row7_col4\" class=\"data row7 col4\" >0</td>\n",
       "                        <td id=\"T_b451816a_5ada_11eb_9128_a708b9cf6f19row7_col5\" class=\"data row7 col5\" >24</td>\n",
       "                        <td id=\"T_b451816a_5ada_11eb_9128_a708b9cf6f19row7_col6\" class=\"data row7 col6\" >209</td>\n",
       "                        <td id=\"T_b451816a_5ada_11eb_9128_a708b9cf6f19row7_col7\" class=\"data row7 col7\" >254</td>\n",
       "                        <td id=\"T_b451816a_5ada_11eb_9128_a708b9cf6f19row7_col8\" class=\"data row7 col8\" >254</td>\n",
       "                        <td id=\"T_b451816a_5ada_11eb_9128_a708b9cf6f19row7_col9\" class=\"data row7 col9\" >254</td>\n",
       "                        <td id=\"T_b451816a_5ada_11eb_9128_a708b9cf6f19row7_col10\" class=\"data row7 col10\" >171</td>\n",
       "                        <td id=\"T_b451816a_5ada_11eb_9128_a708b9cf6f19row7_col11\" class=\"data row7 col11\" >0</td>\n",
       "            </tr>\n",
       "            <tr>\n",
       "                        <th id=\"T_b451816a_5ada_11eb_9128_a708b9cf6f19level0_row8\" class=\"row_heading level0 row8\" >8</th>\n",
       "                        <td id=\"T_b451816a_5ada_11eb_9128_a708b9cf6f19row8_col0\" class=\"data row8 col0\" >0</td>\n",
       "                        <td id=\"T_b451816a_5ada_11eb_9128_a708b9cf6f19row8_col1\" class=\"data row8 col1\" >0</td>\n",
       "                        <td id=\"T_b451816a_5ada_11eb_9128_a708b9cf6f19row8_col2\" class=\"data row8 col2\" >0</td>\n",
       "                        <td id=\"T_b451816a_5ada_11eb_9128_a708b9cf6f19row8_col3\" class=\"data row8 col3\" >0</td>\n",
       "                        <td id=\"T_b451816a_5ada_11eb_9128_a708b9cf6f19row8_col4\" class=\"data row8 col4\" >91</td>\n",
       "                        <td id=\"T_b451816a_5ada_11eb_9128_a708b9cf6f19row8_col5\" class=\"data row8 col5\" >137</td>\n",
       "                        <td id=\"T_b451816a_5ada_11eb_9128_a708b9cf6f19row8_col6\" class=\"data row8 col6\" >253</td>\n",
       "                        <td id=\"T_b451816a_5ada_11eb_9128_a708b9cf6f19row8_col7\" class=\"data row8 col7\" >254</td>\n",
       "                        <td id=\"T_b451816a_5ada_11eb_9128_a708b9cf6f19row8_col8\" class=\"data row8 col8\" >254</td>\n",
       "                        <td id=\"T_b451816a_5ada_11eb_9128_a708b9cf6f19row8_col9\" class=\"data row8 col9\" >254</td>\n",
       "                        <td id=\"T_b451816a_5ada_11eb_9128_a708b9cf6f19row8_col10\" class=\"data row8 col10\" >112</td>\n",
       "                        <td id=\"T_b451816a_5ada_11eb_9128_a708b9cf6f19row8_col11\" class=\"data row8 col11\" >0</td>\n",
       "            </tr>\n",
       "            <tr>\n",
       "                        <th id=\"T_b451816a_5ada_11eb_9128_a708b9cf6f19level0_row9\" class=\"row_heading level0 row9\" >9</th>\n",
       "                        <td id=\"T_b451816a_5ada_11eb_9128_a708b9cf6f19row9_col0\" class=\"data row9 col0\" >0</td>\n",
       "                        <td id=\"T_b451816a_5ada_11eb_9128_a708b9cf6f19row9_col1\" class=\"data row9 col1\" >0</td>\n",
       "                        <td id=\"T_b451816a_5ada_11eb_9128_a708b9cf6f19row9_col2\" class=\"data row9 col2\" >40</td>\n",
       "                        <td id=\"T_b451816a_5ada_11eb_9128_a708b9cf6f19row9_col3\" class=\"data row9 col3\" >214</td>\n",
       "                        <td id=\"T_b451816a_5ada_11eb_9128_a708b9cf6f19row9_col4\" class=\"data row9 col4\" >250</td>\n",
       "                        <td id=\"T_b451816a_5ada_11eb_9128_a708b9cf6f19row9_col5\" class=\"data row9 col5\" >254</td>\n",
       "                        <td id=\"T_b451816a_5ada_11eb_9128_a708b9cf6f19row9_col6\" class=\"data row9 col6\" >254</td>\n",
       "                        <td id=\"T_b451816a_5ada_11eb_9128_a708b9cf6f19row9_col7\" class=\"data row9 col7\" >254</td>\n",
       "                        <td id=\"T_b451816a_5ada_11eb_9128_a708b9cf6f19row9_col8\" class=\"data row9 col8\" >254</td>\n",
       "                        <td id=\"T_b451816a_5ada_11eb_9128_a708b9cf6f19row9_col9\" class=\"data row9 col9\" >254</td>\n",
       "                        <td id=\"T_b451816a_5ada_11eb_9128_a708b9cf6f19row9_col10\" class=\"data row9 col10\" >34</td>\n",
       "                        <td id=\"T_b451816a_5ada_11eb_9128_a708b9cf6f19row9_col11\" class=\"data row9 col11\" >0</td>\n",
       "            </tr>\n",
       "            <tr>\n",
       "                        <th id=\"T_b451816a_5ada_11eb_9128_a708b9cf6f19level0_row10\" class=\"row_heading level0 row10\" >10</th>\n",
       "                        <td id=\"T_b451816a_5ada_11eb_9128_a708b9cf6f19row10_col0\" class=\"data row10 col0\" >0</td>\n",
       "                        <td id=\"T_b451816a_5ada_11eb_9128_a708b9cf6f19row10_col1\" class=\"data row10 col1\" >0</td>\n",
       "                        <td id=\"T_b451816a_5ada_11eb_9128_a708b9cf6f19row10_col2\" class=\"data row10 col2\" >81</td>\n",
       "                        <td id=\"T_b451816a_5ada_11eb_9128_a708b9cf6f19row10_col3\" class=\"data row10 col3\" >247</td>\n",
       "                        <td id=\"T_b451816a_5ada_11eb_9128_a708b9cf6f19row10_col4\" class=\"data row10 col4\" >254</td>\n",
       "                        <td id=\"T_b451816a_5ada_11eb_9128_a708b9cf6f19row10_col5\" class=\"data row10 col5\" >254</td>\n",
       "                        <td id=\"T_b451816a_5ada_11eb_9128_a708b9cf6f19row10_col6\" class=\"data row10 col6\" >254</td>\n",
       "                        <td id=\"T_b451816a_5ada_11eb_9128_a708b9cf6f19row10_col7\" class=\"data row10 col7\" >254</td>\n",
       "                        <td id=\"T_b451816a_5ada_11eb_9128_a708b9cf6f19row10_col8\" class=\"data row10 col8\" >254</td>\n",
       "                        <td id=\"T_b451816a_5ada_11eb_9128_a708b9cf6f19row10_col9\" class=\"data row10 col9\" >254</td>\n",
       "                        <td id=\"T_b451816a_5ada_11eb_9128_a708b9cf6f19row10_col10\" class=\"data row10 col10\" >146</td>\n",
       "                        <td id=\"T_b451816a_5ada_11eb_9128_a708b9cf6f19row10_col11\" class=\"data row10 col11\" >0</td>\n",
       "            </tr>\n",
       "            <tr>\n",
       "                        <th id=\"T_b451816a_5ada_11eb_9128_a708b9cf6f19level0_row11\" class=\"row_heading level0 row11\" >11</th>\n",
       "                        <td id=\"T_b451816a_5ada_11eb_9128_a708b9cf6f19row11_col0\" class=\"data row11 col0\" >0</td>\n",
       "                        <td id=\"T_b451816a_5ada_11eb_9128_a708b9cf6f19row11_col1\" class=\"data row11 col1\" >0</td>\n",
       "                        <td id=\"T_b451816a_5ada_11eb_9128_a708b9cf6f19row11_col2\" class=\"data row11 col2\" >0</td>\n",
       "                        <td id=\"T_b451816a_5ada_11eb_9128_a708b9cf6f19row11_col3\" class=\"data row11 col3\" >110</td>\n",
       "                        <td id=\"T_b451816a_5ada_11eb_9128_a708b9cf6f19row11_col4\" class=\"data row11 col4\" >246</td>\n",
       "                        <td id=\"T_b451816a_5ada_11eb_9128_a708b9cf6f19row11_col5\" class=\"data row11 col5\" >254</td>\n",
       "                        <td id=\"T_b451816a_5ada_11eb_9128_a708b9cf6f19row11_col6\" class=\"data row11 col6\" >254</td>\n",
       "                        <td id=\"T_b451816a_5ada_11eb_9128_a708b9cf6f19row11_col7\" class=\"data row11 col7\" >254</td>\n",
       "                        <td id=\"T_b451816a_5ada_11eb_9128_a708b9cf6f19row11_col8\" class=\"data row11 col8\" >254</td>\n",
       "                        <td id=\"T_b451816a_5ada_11eb_9128_a708b9cf6f19row11_col9\" class=\"data row11 col9\" >254</td>\n",
       "                        <td id=\"T_b451816a_5ada_11eb_9128_a708b9cf6f19row11_col10\" class=\"data row11 col10\" >171</td>\n",
       "                        <td id=\"T_b451816a_5ada_11eb_9128_a708b9cf6f19row11_col11\" class=\"data row11 col11\" >0</td>\n",
       "            </tr>\n",
       "            <tr>\n",
       "                        <th id=\"T_b451816a_5ada_11eb_9128_a708b9cf6f19level0_row12\" class=\"row_heading level0 row12\" >12</th>\n",
       "                        <td id=\"T_b451816a_5ada_11eb_9128_a708b9cf6f19row12_col0\" class=\"data row12 col0\" >0</td>\n",
       "                        <td id=\"T_b451816a_5ada_11eb_9128_a708b9cf6f19row12_col1\" class=\"data row12 col1\" >0</td>\n",
       "                        <td id=\"T_b451816a_5ada_11eb_9128_a708b9cf6f19row12_col2\" class=\"data row12 col2\" >0</td>\n",
       "                        <td id=\"T_b451816a_5ada_11eb_9128_a708b9cf6f19row12_col3\" class=\"data row12 col3\" >0</td>\n",
       "                        <td id=\"T_b451816a_5ada_11eb_9128_a708b9cf6f19row12_col4\" class=\"data row12 col4\" >73</td>\n",
       "                        <td id=\"T_b451816a_5ada_11eb_9128_a708b9cf6f19row12_col5\" class=\"data row12 col5\" >89</td>\n",
       "                        <td id=\"T_b451816a_5ada_11eb_9128_a708b9cf6f19row12_col6\" class=\"data row12 col6\" >89</td>\n",
       "                        <td id=\"T_b451816a_5ada_11eb_9128_a708b9cf6f19row12_col7\" class=\"data row12 col7\" >93</td>\n",
       "                        <td id=\"T_b451816a_5ada_11eb_9128_a708b9cf6f19row12_col8\" class=\"data row12 col8\" >240</td>\n",
       "                        <td id=\"T_b451816a_5ada_11eb_9128_a708b9cf6f19row12_col9\" class=\"data row12 col9\" >254</td>\n",
       "                        <td id=\"T_b451816a_5ada_11eb_9128_a708b9cf6f19row12_col10\" class=\"data row12 col10\" >171</td>\n",
       "                        <td id=\"T_b451816a_5ada_11eb_9128_a708b9cf6f19row12_col11\" class=\"data row12 col11\" >0</td>\n",
       "            </tr>\n",
       "            <tr>\n",
       "                        <th id=\"T_b451816a_5ada_11eb_9128_a708b9cf6f19level0_row13\" class=\"row_heading level0 row13\" >13</th>\n",
       "                        <td id=\"T_b451816a_5ada_11eb_9128_a708b9cf6f19row13_col0\" class=\"data row13 col0\" >0</td>\n",
       "                        <td id=\"T_b451816a_5ada_11eb_9128_a708b9cf6f19row13_col1\" class=\"data row13 col1\" >0</td>\n",
       "                        <td id=\"T_b451816a_5ada_11eb_9128_a708b9cf6f19row13_col2\" class=\"data row13 col2\" >0</td>\n",
       "                        <td id=\"T_b451816a_5ada_11eb_9128_a708b9cf6f19row13_col3\" class=\"data row13 col3\" >0</td>\n",
       "                        <td id=\"T_b451816a_5ada_11eb_9128_a708b9cf6f19row13_col4\" class=\"data row13 col4\" >0</td>\n",
       "                        <td id=\"T_b451816a_5ada_11eb_9128_a708b9cf6f19row13_col5\" class=\"data row13 col5\" >0</td>\n",
       "                        <td id=\"T_b451816a_5ada_11eb_9128_a708b9cf6f19row13_col6\" class=\"data row13 col6\" >0</td>\n",
       "                        <td id=\"T_b451816a_5ada_11eb_9128_a708b9cf6f19row13_col7\" class=\"data row13 col7\" >1</td>\n",
       "                        <td id=\"T_b451816a_5ada_11eb_9128_a708b9cf6f19row13_col8\" class=\"data row13 col8\" >128</td>\n",
       "                        <td id=\"T_b451816a_5ada_11eb_9128_a708b9cf6f19row13_col9\" class=\"data row13 col9\" >254</td>\n",
       "                        <td id=\"T_b451816a_5ada_11eb_9128_a708b9cf6f19row13_col10\" class=\"data row13 col10\" >219</td>\n",
       "                        <td id=\"T_b451816a_5ada_11eb_9128_a708b9cf6f19row13_col11\" class=\"data row13 col11\" >31</td>\n",
       "            </tr>\n",
       "            <tr>\n",
       "                        <th id=\"T_b451816a_5ada_11eb_9128_a708b9cf6f19level0_row14\" class=\"row_heading level0 row14\" >14</th>\n",
       "                        <td id=\"T_b451816a_5ada_11eb_9128_a708b9cf6f19row14_col0\" class=\"data row14 col0\" >0</td>\n",
       "                        <td id=\"T_b451816a_5ada_11eb_9128_a708b9cf6f19row14_col1\" class=\"data row14 col1\" >0</td>\n",
       "                        <td id=\"T_b451816a_5ada_11eb_9128_a708b9cf6f19row14_col2\" class=\"data row14 col2\" >0</td>\n",
       "                        <td id=\"T_b451816a_5ada_11eb_9128_a708b9cf6f19row14_col3\" class=\"data row14 col3\" >0</td>\n",
       "                        <td id=\"T_b451816a_5ada_11eb_9128_a708b9cf6f19row14_col4\" class=\"data row14 col4\" >0</td>\n",
       "                        <td id=\"T_b451816a_5ada_11eb_9128_a708b9cf6f19row14_col5\" class=\"data row14 col5\" >0</td>\n",
       "                        <td id=\"T_b451816a_5ada_11eb_9128_a708b9cf6f19row14_col6\" class=\"data row14 col6\" >0</td>\n",
       "                        <td id=\"T_b451816a_5ada_11eb_9128_a708b9cf6f19row14_col7\" class=\"data row14 col7\" >7</td>\n",
       "                        <td id=\"T_b451816a_5ada_11eb_9128_a708b9cf6f19row14_col8\" class=\"data row14 col8\" >254</td>\n",
       "                        <td id=\"T_b451816a_5ada_11eb_9128_a708b9cf6f19row14_col9\" class=\"data row14 col9\" >254</td>\n",
       "                        <td id=\"T_b451816a_5ada_11eb_9128_a708b9cf6f19row14_col10\" class=\"data row14 col10\" >214</td>\n",
       "                        <td id=\"T_b451816a_5ada_11eb_9128_a708b9cf6f19row14_col11\" class=\"data row14 col11\" >28</td>\n",
       "            </tr>\n",
       "            <tr>\n",
       "                        <th id=\"T_b451816a_5ada_11eb_9128_a708b9cf6f19level0_row15\" class=\"row_heading level0 row15\" >15</th>\n",
       "                        <td id=\"T_b451816a_5ada_11eb_9128_a708b9cf6f19row15_col0\" class=\"data row15 col0\" >0</td>\n",
       "                        <td id=\"T_b451816a_5ada_11eb_9128_a708b9cf6f19row15_col1\" class=\"data row15 col1\" >0</td>\n",
       "                        <td id=\"T_b451816a_5ada_11eb_9128_a708b9cf6f19row15_col2\" class=\"data row15 col2\" >0</td>\n",
       "                        <td id=\"T_b451816a_5ada_11eb_9128_a708b9cf6f19row15_col3\" class=\"data row15 col3\" >0</td>\n",
       "                        <td id=\"T_b451816a_5ada_11eb_9128_a708b9cf6f19row15_col4\" class=\"data row15 col4\" >0</td>\n",
       "                        <td id=\"T_b451816a_5ada_11eb_9128_a708b9cf6f19row15_col5\" class=\"data row15 col5\" >0</td>\n",
       "                        <td id=\"T_b451816a_5ada_11eb_9128_a708b9cf6f19row15_col6\" class=\"data row15 col6\" >0</td>\n",
       "                        <td id=\"T_b451816a_5ada_11eb_9128_a708b9cf6f19row15_col7\" class=\"data row15 col7\" >138</td>\n",
       "                        <td id=\"T_b451816a_5ada_11eb_9128_a708b9cf6f19row15_col8\" class=\"data row15 col8\" >254</td>\n",
       "                        <td id=\"T_b451816a_5ada_11eb_9128_a708b9cf6f19row15_col9\" class=\"data row15 col9\" >254</td>\n",
       "                        <td id=\"T_b451816a_5ada_11eb_9128_a708b9cf6f19row15_col10\" class=\"data row15 col10\" >116</td>\n",
       "                        <td id=\"T_b451816a_5ada_11eb_9128_a708b9cf6f19row15_col11\" class=\"data row15 col11\" >0</td>\n",
       "            </tr>\n",
       "            <tr>\n",
       "                        <th id=\"T_b451816a_5ada_11eb_9128_a708b9cf6f19level0_row16\" class=\"row_heading level0 row16\" >16</th>\n",
       "                        <td id=\"T_b451816a_5ada_11eb_9128_a708b9cf6f19row16_col0\" class=\"data row16 col0\" >90</td>\n",
       "                        <td id=\"T_b451816a_5ada_11eb_9128_a708b9cf6f19row16_col1\" class=\"data row16 col1\" >0</td>\n",
       "                        <td id=\"T_b451816a_5ada_11eb_9128_a708b9cf6f19row16_col2\" class=\"data row16 col2\" >0</td>\n",
       "                        <td id=\"T_b451816a_5ada_11eb_9128_a708b9cf6f19row16_col3\" class=\"data row16 col3\" >0</td>\n",
       "                        <td id=\"T_b451816a_5ada_11eb_9128_a708b9cf6f19row16_col4\" class=\"data row16 col4\" >0</td>\n",
       "                        <td id=\"T_b451816a_5ada_11eb_9128_a708b9cf6f19row16_col5\" class=\"data row16 col5\" >0</td>\n",
       "                        <td id=\"T_b451816a_5ada_11eb_9128_a708b9cf6f19row16_col6\" class=\"data row16 col6\" >25</td>\n",
       "                        <td id=\"T_b451816a_5ada_11eb_9128_a708b9cf6f19row16_col7\" class=\"data row16 col7\" >240</td>\n",
       "                        <td id=\"T_b451816a_5ada_11eb_9128_a708b9cf6f19row16_col8\" class=\"data row16 col8\" >254</td>\n",
       "                        <td id=\"T_b451816a_5ada_11eb_9128_a708b9cf6f19row16_col9\" class=\"data row16 col9\" >254</td>\n",
       "                        <td id=\"T_b451816a_5ada_11eb_9128_a708b9cf6f19row16_col10\" class=\"data row16 col10\" >34</td>\n",
       "                        <td id=\"T_b451816a_5ada_11eb_9128_a708b9cf6f19row16_col11\" class=\"data row16 col11\" >0</td>\n",
       "            </tr>\n",
       "    </tbody></table>"
      ],
      "text/plain": [
       "<pandas.io.formats.style.Styler at 0x7f72696deda0>"
      ]
     },
     "execution_count": 12,
     "metadata": {},
     "output_type": "execute_result"
    }
   ],
   "source": [
    "#use pandas to color code gray values\n",
    "im3_t = tensor(im3)\n",
    "df = pd.DataFrame(im3_t[3:20,8:20])\n",
    "df.style.set_properties(**{'font-size':'6pt'}).background_gradient('Greys')"
   ]
  },
  {
   "cell_type": "code",
   "execution_count": 13,
   "metadata": {},
   "outputs": [
    {
     "data": {
      "text/plain": [
       "(6131, 6265)"
      ]
     },
     "execution_count": 13,
     "metadata": {},
     "output_type": "execute_result"
    }
   ],
   "source": [
    "#load all images into tensors\n",
    "three_tensors = [tensor(Image.open(o)) for o in threes]\n",
    "seven_tensors = [tensor(Image.open(o)) for o in sevens]\n",
    "len(three_tensors), len(seven_tensors)"
   ]
  },
  {
   "cell_type": "code",
   "execution_count": 14,
   "metadata": {},
   "outputs": [
    {
     "data": {
      "text/plain": [
       "<matplotlib.axes._subplots.AxesSubplot at 0x7f726968f4a8>"
      ]
     },
     "execution_count": 14,
     "metadata": {},
     "output_type": "execute_result"
    },
    {
     "data": {
      "image/png": "[encoded data removed]",
      "text/plain": [
       "<Figure size 72x72 with 1 Axes>"
      ]
     },
     "metadata": {
      "needs_background": "light"
     },
     "output_type": "display_data"
    }
   ],
   "source": [
    "cmap = {'cmap':'Greys'}\n",
    "show_image(three_tensors[1], **cmap) #added kwargs to address the error, when default 'cmap':'Grays'"
   ]
  },
  {
   "cell_type": "code",
   "execution_count": 15,
   "metadata": {},
   "outputs": [
    {
     "data": {
      "text/plain": [
       "torch.Size([6131, 28, 28])"
      ]
     },
     "execution_count": 15,
     "metadata": {},
     "output_type": "execute_result"
    }
   ],
   "source": [
    "#stack the images and cast the values as float (0,1)\n",
    "stacked_threes = torch.stack(three_tensors).float()/255\n",
    "stacked_sevens = torch.stack(seven_tensors).float()/255\n",
    "stacked_threes.shape"
   ]
  },
  {
   "cell_type": "code",
   "execution_count": 16,
   "metadata": {},
   "outputs": [
    {
     "data": {
      "text/plain": [
       "(3, 3)"
      ]
     },
     "execution_count": 16,
     "metadata": {},
     "output_type": "execute_result"
    }
   ],
   "source": [
    "len(stacked_threes.shape), stacked_threes.ndim"
   ]
  },
  {
   "cell_type": "code",
   "execution_count": 17,
   "metadata": {},
   "outputs": [
    {
     "data": {
      "text/plain": [
       "<matplotlib.axes._subplots.AxesSubplot at 0x7f72692b7f60>"
      ]
     },
     "execution_count": 17,
     "metadata": {},
     "output_type": "execute_result"
    },
    {
     "data": {
      "image/png": "[encoded data removed]",
      "text/plain": [
       "<Figure size 72x72 with 1 Axes>"
      ]
     },
     "metadata": {
      "needs_background": "light"
     },
     "output_type": "display_data"
    }
   ],
   "source": [
    "#stack by mean\n",
    "mean3 = stacked_threes.mean(0) #argument 0 to set which dimension to stack\n",
    "show_image(mean3, **cmap)"
   ]
  },
  {
   "cell_type": "code",
   "execution_count": 18,
   "metadata": {},
   "outputs": [
    {
     "data": {
      "text/plain": [
       "<matplotlib.axes._subplots.AxesSubplot at 0x7f72691fe4a8>"
      ]
     },
     "execution_count": 18,
     "metadata": {},
     "output_type": "execute_result"
    },
    {
     "data": {
      "image/png": "[encoded data removed]",
      "text/plain": [
       "<Figure size 72x72 with 1 Axes>"
      ]
     },
     "metadata": {
      "needs_background": "light"
     },
     "output_type": "display_data"
    }
   ],
   "source": [
    "#stack by median\n",
    "med3 = stacked_threes.quantile(q = 0.5, dim = 0)\n",
    "show_image(med3, **cmap)"
   ]
  },
  {
   "cell_type": "code",
   "execution_count": 19,
   "metadata": {},
   "outputs": [
    {
     "data": {
      "text/plain": [
       "<matplotlib.axes._subplots.AxesSubplot at 0x7f72691b7898>"
      ]
     },
     "execution_count": 19,
     "metadata": {},
     "output_type": "execute_result"
    },
    {
     "data": {
      "image/png": "[encoded data removed]",
      "text/plain": [
       "<Figure size 72x72 with 1 Axes>"
      ]
     },
     "metadata": {
      "needs_background": "light"
     },
     "output_type": "display_data"
    }
   ],
   "source": [
    "#for sevens\n",
    "mean7 = stacked_sevens.mean(0)\n",
    "show_image(mean7, **cmap)"
   ]
  },
  {
   "cell_type": "code",
   "execution_count": 20,
   "metadata": {},
   "outputs": [
    {
     "data": {
      "text/plain": [
       "<matplotlib.axes._subplots.AxesSubplot at 0x7f72691f2cc0>"
      ]
     },
     "execution_count": 20,
     "metadata": {},
     "output_type": "execute_result"
    },
    {
     "data": {
      "image/png": "[encoded data removed]",
      "text/plain": [
       "<Figure size 72x72 with 1 Axes>"
      ]
     },
     "metadata": {
      "needs_background": "light"
     },
     "output_type": "display_data"
    }
   ],
   "source": [
    "med7 = stacked_sevens.quantile(0.5, 0)\n",
    "show_image(med7, **cmap)"
   ]
  },
  {
   "cell_type": "code",
   "execution_count": 21,
   "metadata": {},
   "outputs": [
    {
     "data": {
      "text/plain": [
       "<matplotlib.axes._subplots.AxesSubplot at 0x7f727f5fd2b0>"
      ]
     },
     "execution_count": 21,
     "metadata": {},
     "output_type": "execute_result"
    },
    {
     "data": {
      "image/png": "[encoded data removed]",
      "text/plain": [
       "<Figure size 72x72 with 1 Axes>"
      ]
     },
     "metadata": {
      "needs_background": "light"
     },
     "output_type": "display_data"
    }
   ],
   "source": [
    "#use a single image of a three as example\n",
    "a_3 = stacked_threes[random.randint(0,len(three_tensors))]\n",
    "show_image(a_3, **cmap)"
   ]
  },
  {
   "cell_type": "code",
   "execution_count": 22,
   "metadata": {},
   "outputs": [
    {
     "data": {
      "text/plain": [
       "(tensor(0.1626), tensor(0.2909))"
      ]
     },
     "execution_count": 22,
     "metadata": {},
     "output_type": "execute_result"
    }
   ],
   "source": [
    "#l1 and mse loss against ideal 3\n",
    "dist_3_abs = (a_3 - mean3).abs().mean()\n",
    "dist_3_rmse = ((a_3 - mean3)**2).mean().sqrt()\n",
    "dist_3_abs, dist_3_rmse"
   ]
  },
  {
   "cell_type": "code",
   "execution_count": 23,
   "metadata": {},
   "outputs": [
    {
     "data": {
      "text/plain": [
       "(tensor(0.1980), tensor(0.3578))"
      ]
     },
     "execution_count": 23,
     "metadata": {},
     "output_type": "execute_result"
    }
   ],
   "source": [
    "#l1 and mse loss against ideal 7\n",
    "dist_7_abs = (a_3 - mean7).abs().mean()\n",
    "dist_7_rmse = ((a_3 - mean7)**2).mean().sqrt()\n",
    "dist_7_abs, dist_7_rmse"
   ]
  },
  {
   "cell_type": "markdown",
   "metadata": {},
   "source": [
    "PyTorch already provides both of these as loss functions. You'll find these inside torch.nn.functional, which the PyTorch team recommends importing as F (and is available by default under that name in fastai):"
   ]
  },
  {
   "cell_type": "code",
   "execution_count": 24,
   "metadata": {},
   "outputs": [
    {
     "data": {
      "text/plain": [
       "(tensor(0.1980), tensor(0.3578))"
      ]
     },
     "execution_count": 24,
     "metadata": {},
     "output_type": "execute_result"
    }
   ],
   "source": [
    "F.l1_loss(a_3, mean7), F.mse_loss(a_3, mean7).sqrt()"
   ]
  },
  {
   "cell_type": "markdown",
   "metadata": {},
   "source": [
    "load in validation set"
   ]
  },
  {
   "cell_type": "code",
   "execution_count": 25,
   "metadata": {},
   "outputs": [
    {
     "data": {
      "text/plain": [
       "(torch.Size([1010, 28, 28]), torch.Size([1028, 28, 28]))"
      ]
     },
     "execution_count": 25,
     "metadata": {},
     "output_type": "execute_result"
    }
   ],
   "source": [
    "valid_3_tens = torch.stack([tensor(Image.open(o)) for o in (path/'valid'/'3').ls()])\n",
    "valid_3_tens = valid_3_tens.float()/255\n",
    "valid_7_tens = torch.stack([tensor(Image.open(o)) for o in (path/'valid'/'7').ls()])\n",
    "valid_7_tens = valid_7_tens.float()/255\n",
    "valid_3_tens.shape, valid_7_tens.shape"
   ]
  },
  {
   "cell_type": "code",
   "execution_count": 26,
   "metadata": {},
   "outputs": [
    {
     "data": {
      "text/plain": [
       "tensor(0.1626)"
      ]
     },
     "execution_count": 26,
     "metadata": {},
     "output_type": "execute_result"
    }
   ],
   "source": [
    "def mnist_dist(a,b):\n",
    "    return (a-b).abs().mean((-1,-2)) #this tuple is to calculate the mean over the horizontal and vertical axes\n",
    "mnist_dist(a_3,mean3)"
   ]
  },
  {
   "cell_type": "code",
   "execution_count": 27,
   "metadata": {},
   "outputs": [
    {
     "data": {
      "text/plain": [
       "tensor([0.0000e+00, 0.0000e+00, 7.2232e-05, 6.9526e-03, 1.8226e-01, 2.3415e-01, 2.0523e-01, 2.7159e-01, 2.0934e-01, 1.5139e-01, 1.2678e-01, 1.9288e-01, 2.0395e-01, 2.4688e-01, 2.5058e-01, 1.8091e-01,\n",
       "        1.3107e-01, 1.0753e-01, 1.9383e-01, 3.4617e-01, 3.7668e-01, 3.2729e-01, 2.7897e-01, 2.3365e-01, 8.2959e-02, 1.0329e-02, 4.0703e-04, 0.0000e+00])"
      ]
     },
     "execution_count": 27,
     "metadata": {},
     "output_type": "execute_result"
    }
   ],
   "source": [
    "(a_3-mean3).abs().mean(-1)"
   ]
  },
  {
   "cell_type": "code",
   "execution_count": 28,
   "metadata": {},
   "outputs": [
    {
     "data": {
      "text/plain": [
       "(tensor([0.1674, 0.1449, 0.1508,  ..., 0.1143, 0.1343, 0.1202]),\n",
       " torch.Size([1010]))"
      ]
     },
     "execution_count": 28,
     "metadata": {},
     "output_type": "execute_result"
    }
   ],
   "source": [
    "#get distance of validating set of 3s to mean3\n",
    "valid_3_dist = mnist_dist(valid_3_tens, mean3)\n",
    "valid_3_dist, valid_3_dist.shape"
   ]
  },
  {
   "cell_type": "markdown",
   "metadata": {},
   "source": [
    "So in this case, PyTorch treats mean3, a rank-2 tensor representing a single image, as if it were 1,010 copies of the same image, and then subtracts each of those copies from each 3 in our validation set. What shape would you expect this tensor to have? "
   ]
  },
  {
   "cell_type": "code",
   "execution_count": 29,
   "metadata": {},
   "outputs": [],
   "source": [
    "#using a simple rule that the distance of a sample 3 is closer to mean3 than mean7, return that it is '3'\n",
    "def is_3(x):\n",
    "    return mnist_dist(x,mean3) < mnist_dist(x,mean7)"
   ]
  },
  {
   "cell_type": "code",
   "execution_count": 30,
   "metadata": {},
   "outputs": [
    {
     "data": {
      "text/plain": [
       "(tensor(True), tensor(1.))"
      ]
     },
     "execution_count": 30,
     "metadata": {},
     "output_type": "execute_result"
    }
   ],
   "source": [
    "is_3(a_3), is_3(a_3).float()"
   ]
  },
  {
   "cell_type": "markdown",
   "metadata": {},
   "source": [
    "In this example, it is judged a '3'.\n",
    "We can iterate through the entire validation set"
   ]
  },
  {
   "cell_type": "code",
   "execution_count": 31,
   "metadata": {},
   "outputs": [
    {
     "data": {
      "text/plain": [
       "tensor([ True,  True, False,  ...,  True,  True, False])"
      ]
     },
     "execution_count": 31,
     "metadata": {},
     "output_type": "execute_result"
    }
   ],
   "source": [
    "is_3(valid_3_tens)"
   ]
  },
  {
   "cell_type": "code",
   "execution_count": 32,
   "metadata": {},
   "outputs": [
    {
     "data": {
      "text/plain": [
       "(tensor(0.9168), tensor(0.9854), tensor(0.9511))"
      ]
     },
     "execution_count": 32,
     "metadata": {},
     "output_type": "execute_result"
    }
   ],
   "source": [
    "#check accuracy with this simplified approach\n",
    "accuracy_3 = is_3(valid_3_tens).float().mean()\n",
    "accuracy_7 = (1 - is_3(valid_7_tens).float()).mean() # subtract off 1 because is_3 checks against mean7\n",
    "accuracy_3, accuracy_7, (accuracy_3 + accuracy_7)/2"
   ]
  },
  {
   "cell_type": "markdown",
   "metadata": {},
   "source": [
    "## Stochastic Gradient Descent (SGD)\n",
    "Do you remember the way that Arthur Samuel described machine learning, which we quoted in <\n",
    "\n",
    ": Suppose we arrange for some automatic means of testing the effectiveness of any current weight assignment in terms of actual performance and provide a mechanism for altering the weight assignment so as to maximize the performance. We need not go into the details of such a procedure to see that it could be made entirely automatic and to see that a machine so programmed would \"learn\" from its experience.\n",
    "\n",
    "As we discussed, this is the key to allowing us to have a model that can get better and better—that can learn. But our pixel similarity approach does not really do this. We do not have any kind of weight assignment, or any way of improving based on testing the effectiveness of a weight assignment. In other words, we can't really improve our pixel similarity approach by modifying a set of parameters. In order to take advantage of the power of deep learning, we will first have to represent our task in the way that Arthur Samuel described it.\n",
    "\n",
    "Instead of trying to find the similarity between an image and an \"ideal image,\" we could instead look at each individual pixel and come up with a set of weights for each one, such that the highest weights are associated with those pixels most likely to be black for a particular category. For instance, pixels toward the bottom right are not very likely to be activated for a 7, so they should have a low weight for a 7, but they are likely to be activated for an 8, so they should have a high weight for an 8. This can be represented as a function and set of weight values for each possible category—for instance the probability of being the number 8:\n",
    "\n",
    "def pr_eight(x,w): return (x*w).sum()\n",
    "Here we are assuming that x is the image, represented as a vector—in other words, with all of the rows stacked up end to end into a single long line. And we are assuming that the weights are a vector w. If we have this function, then we just need some way to update the weights to make them a little bit better. With such an approach, we can repeat that step a number of times, making the weights better and better, until they are as good as we can make them.\n",
    "\n",
    "We want to find the specific values for the vector w that causes the result of our function to be high for those images that are actually 8s, and low for those images that are not. Searching for the best vector w is a way to search for the best function for recognising 8s. (Because we are not yet using a deep neural network, we are limited by what our function can actually do—we are going to fix that constraint later in this chapter.)\n",
    "\n",
    "To be more specific, here are the steps that we are going to require, to turn this function into a machine learning classifier:\n",
    "\n",
    "Initialize the weights.\n",
    "For each image, use these weights to predict whether it appears to be a 3 or a 7.\n",
    "Based on these predictions, calculate how good the model is (its loss).\n",
    "Calculate the gradient, which measures for each weight, how changing that weight would change the loss\n",
    "Step (that is, change) all the weights based on that calculation.\n",
    "Go back to the step 2, and repeat the process.\n",
    "Iterate until you decide to stop the training process (for instance, because the model is good enough or you don't want to wait any longer).\n",
    "These seven steps, illustrated in <"
   ]
  },
  {
   "cell_type": "code",
   "execution_count": 33,
   "metadata": {},
   "outputs": [
    {
     "data": {
      "text/plain": [
       "tensor(9., grad_fn=<PowBackward0>)"
      ]
     },
     "execution_count": 33,
     "metadata": {},
     "output_type": "execute_result"
    }
   ],
   "source": [
    "#a simple case\n",
    "def f(x): return x**2\n",
    "xt = tensor(3.).requires_grad_() #tells the tensor to remember the gradient calculations\n",
    "yt = f(xt)\n",
    "yt"
   ]
  },
  {
   "cell_type": "code",
   "execution_count": 34,
   "metadata": {},
   "outputs": [],
   "source": [
    "yt.backward() #calculate the gradient"
   ]
  },
  {
   "cell_type": "code",
   "execution_count": 35,
   "metadata": {},
   "outputs": [
    {
     "data": {
      "text/plain": [
       "tensor(6.)"
      ]
     },
     "execution_count": 35,
     "metadata": {},
     "output_type": "execute_result"
    }
   ],
   "source": [
    "xt.grad"
   ]
  },
  {
   "cell_type": "code",
   "execution_count": 36,
   "metadata": {},
   "outputs": [
    {
     "data": {
      "text/plain": [
       "tensor(120., grad_fn=<SumBackward0>)"
      ]
     },
     "execution_count": 36,
     "metadata": {},
     "output_type": "execute_result"
    }
   ],
   "source": [
    "#works also with a list\n",
    "xt = tensor([2.,4.,10.]).requires_grad_()\n",
    "def f(x): return (x**2).sum()\n",
    "yt = f(xt)\n",
    "yt"
   ]
  },
  {
   "cell_type": "code",
   "execution_count": 37,
   "metadata": {},
   "outputs": [
    {
     "data": {
      "text/plain": [
       "tensor([ 4.,  8., 20.])"
      ]
     },
     "execution_count": 37,
     "metadata": {},
     "output_type": "execute_result"
    }
   ],
   "source": [
    "yt.backward()\n",
    "xt.grad"
   ]
  },
  {
   "cell_type": "code",
   "execution_count": 38,
   "metadata": {},
   "outputs": [
    {
     "data": {
      "text/plain": [
       "tensor([ 0.,  1.,  2.,  3.,  4.,  5.,  6.,  7.,  8.,  9., 10., 11., 12., 13., 14., 15., 16., 17., 18., 19.])"
      ]
     },
     "execution_count": 38,
     "metadata": {},
     "output_type": "execute_result"
    }
   ],
   "source": [
    "#take an example of a data of speed ~ time\n",
    "time = torch.arange(0,20).float()\n",
    "time"
   ]
  },
  {
   "cell_type": "code",
   "execution_count": 39,
   "metadata": {},
   "outputs": [
    {
     "data": {
      "text/plain": [
       "[<matplotlib.lines.Line2D at 0x7f72690c8ac8>]"
      ]
     },
     "execution_count": 39,
     "metadata": {},
     "output_type": "execute_result"
    },
    {
     "data": {
      "image/png": "[encoded data removed]",
      "text/plain": [
       "<Figure size 432x288 with 1 Axes>"
      ]
     },
     "metadata": {
      "needs_background": "light"
     },
     "output_type": "display_data"
    }
   ],
   "source": [
    "#define its relationship to speed\n",
    "import matplotlib.pyplot as plt\n",
    "speed = torch.randn(20)*3 + 0.75*(time-9.5)**2 + 1\n",
    "plt.plot(time, speed, 'o')"
   ]
  },
  {
   "cell_type": "code",
   "execution_count": 40,
   "metadata": {},
   "outputs": [],
   "source": [
    "#define a quadratic function\n",
    "def f(t,params):\n",
    "    a,b,c = params\n",
    "    return a*(t**2) + (b*t) + c"
   ]
  },
  {
   "cell_type": "code",
   "execution_count": 41,
   "metadata": {},
   "outputs": [],
   "source": [
    "#function for mse calculation\n",
    "def mse(preds, targets):\n",
    "    return ((preds-targets)**2).mean().sqrt()"
   ]
  },
  {
   "cell_type": "code",
   "execution_count": 42,
   "metadata": {},
   "outputs": [],
   "source": [
    "#initialize parameters\n",
    "params = torch.randn(3).requires_grad_()\n",
    "orig_params = params.clone()"
   ]
  },
  {
   "cell_type": "code",
   "execution_count": 43,
   "metadata": {},
   "outputs": [],
   "source": [
    "#calculate the predictions\n",
    "preds = f(time, params)"
   ]
  },
  {
   "cell_type": "code",
   "execution_count": 44,
   "metadata": {},
   "outputs": [],
   "source": [
    "#function to plot out prediction vs targets\n",
    "def show_preds(preds, ax = None):\n",
    "    if ax is None: ax=plt.subplots()[1]\n",
    "    ax.plot(time,speed, 'o')\n",
    "    ax.plot(time, to_np(preds), 'o', color='red')\n",
    "    ax.set_ylim(-300,100)"
   ]
  },
  {
   "cell_type": "code",
   "execution_count": 45,
   "metadata": {},
   "outputs": [
    {
     "data": {
      "image/png": "[encoded data removed]",
      "text/plain": [
       "<Figure size 432x288 with 1 Axes>"
      ]
     },
     "metadata": {
      "needs_background": "light"
     },
     "output_type": "display_data"
    }
   ],
   "source": [
    "show_preds(preds)"
   ]
  },
  {
   "cell_type": "code",
   "execution_count": 46,
   "metadata": {},
   "outputs": [
    {
     "data": {
      "text/plain": [
       "tensor(160.6979, grad_fn=<SqrtBackward>)"
      ]
     },
     "execution_count": 46,
     "metadata": {},
     "output_type": "execute_result"
    }
   ],
   "source": [
    "loss = mse(preds,speed)\n",
    "loss"
   ]
  },
  {
   "cell_type": "code",
   "execution_count": 47,
   "metadata": {},
   "outputs": [
    {
     "data": {
      "text/plain": [
       "tensor([-165.5151,  -10.6402,   -0.7900])"
      ]
     },
     "execution_count": 47,
     "metadata": {},
     "output_type": "execute_result"
    }
   ],
   "source": [
    "loss.backward()\n",
    "params.grad"
   ]
  },
  {
   "cell_type": "code",
   "execution_count": 48,
   "metadata": {},
   "outputs": [
    {
     "data": {
      "text/plain": [
       "tensor([-0.1655, -0.0106, -0.0008])"
      ]
     },
     "execution_count": 48,
     "metadata": {},
     "output_type": "execute_result"
    }
   ],
   "source": [
    "params.grad * 1e-3"
   ]
  },
  {
   "cell_type": "code",
   "execution_count": 49,
   "metadata": {},
   "outputs": [
    {
     "data": {
      "text/plain": [
       "(tensor([-0.7658, -0.7506,  1.3525], grad_fn=<CloneBackward>),\n",
       " tensor([-0.7658, -0.7506,  1.3525], requires_grad=True))"
      ]
     },
     "execution_count": 49,
     "metadata": {},
     "output_type": "execute_result"
    }
   ],
   "source": [
    "orig_params, params"
   ]
  },
  {
   "cell_type": "code",
   "execution_count": 50,
   "metadata": {},
   "outputs": [],
   "source": [
    "#lr is learning rate\n",
    "lr = 1e-3\n",
    "params.data -= lr*params.grad.data\n",
    "params.grad = None"
   ]
  },
  {
   "cell_type": "code",
   "execution_count": 51,
   "metadata": {},
   "outputs": [
    {
     "data": {
      "text/plain": [
       "tensor(133.2652, grad_fn=<SqrtBackward>)"
      ]
     },
     "execution_count": 51,
     "metadata": {},
     "output_type": "execute_result"
    }
   ],
   "source": [
    "preds = f(time, params)\n",
    "mse(preds, speed)"
   ]
  },
  {
   "cell_type": "code",
   "execution_count": 52,
   "metadata": {},
   "outputs": [
    {
     "data": {
      "image/png": "[encoded data removed]",
      "text/plain": [
       "<Figure size 432x288 with 1 Axes>"
      ]
     },
     "metadata": {
      "needs_background": "light"
     },
     "output_type": "display_data"
    }
   ],
   "source": [
    "show_preds(preds)"
   ]
  },
  {
   "cell_type": "code",
   "execution_count": 53,
   "metadata": {},
   "outputs": [],
   "source": [
    "#define a function to go through these steps\n",
    "def apply_step(params, prn = True):\n",
    "    preds = f(time, params)\n",
    "    loss= mse(preds,speed)\n",
    "    loss.backward()\n",
    "    params.data -= lr*params.grad.data\n",
    "    params.grad = None\n",
    "    if prn: print(loss.item())\n",
    "    return preds"
   ]
  },
  {
   "cell_type": "code",
   "execution_count": 54,
   "metadata": {},
   "outputs": [
    {
     "name": "stdout",
     "output_type": "stream",
     "text": [
      "133.26524353027344\n",
      "106.2302474975586\n",
      "79.95720672607422\n",
      "55.385318756103516\n",
      "35.366943359375\n",
      "26.461618423461914\n",
      "26.02068519592285\n",
      "26.01849937438965\n",
      "26.018320083618164\n",
      "26.018157958984375\n",
      "26.017993927001953\n",
      "26.017831802368164\n",
      "26.017669677734375\n",
      "26.01750946044922\n",
      "26.017345428466797\n",
      "26.017181396484375\n",
      "26.017019271850586\n",
      "26.01685905456543\n",
      "26.016695022583008\n",
      "26.01653289794922\n",
      "26.016372680664062\n",
      "26.016210556030273\n",
      "26.016050338745117\n",
      "26.015886306762695\n",
      "26.015722274780273\n",
      "26.015560150146484\n",
      "26.015398025512695\n",
      "26.01523780822754\n",
      "26.01507568359375\n",
      "26.01491355895996\n"
     ]
    }
   ],
   "source": [
    "#run it 10 times\n",
    "for i in range(30): apply_step(params)"
   ]
  },
  {
   "cell_type": "code",
   "execution_count": 55,
   "metadata": {},
   "outputs": [],
   "source": [
    "params = orig_params.detach().requires_grad_()"
   ]
  },
  {
   "cell_type": "code",
   "execution_count": 56,
   "metadata": {},
   "outputs": [
    {
     "data": {
      "image/png": "[encoded data removed]",
      "text/plain": [
       "<Figure size 864x216 with 10 Axes>"
      ]
     },
     "metadata": {
      "needs_background": "light"
     },
     "output_type": "display_data"
    }
   ],
   "source": [
    "_,axs = plt.subplots(1,10, figsize=(12,3))\n",
    "for ax in axs: show_preds(apply_step(params, False), ax)\n",
    "plt.tight_layout()"
   ]
  },
  {
   "cell_type": "markdown",
   "metadata": {},
   "source": [
    "## The MNIST Loss Function\n",
    "We already have our independent variables x—these are the images themselves. We'll concatenate them all into a single tensor, and also change them from a list of matrices (a rank-3 tensor) to a list of vectors (a rank-2 tensor). We can do this using view, which is a PyTorch method that changes the shape of a tensor without changing its contents. -1 is a special parameter to view that means \"make this axis as big as necessary to fit all the data\":"
   ]
  },
  {
   "cell_type": "code",
   "execution_count": 57,
   "metadata": {},
   "outputs": [
    {
     "data": {
      "text/plain": [
       "(torch.Size([12396, 784]), torch.Size([12396, 1]))"
      ]
     },
     "execution_count": 57,
     "metadata": {},
     "output_type": "execute_result"
    }
   ],
   "source": [
    "train_x = torch.cat([stacked_threes, stacked_sevens]).view(-1, 28*28)\n",
    "#label for each image, 1 for threes and 0 for sevens\n",
    "train_y = tensor([1]*len(threes) + [0]*len(sevens)).unsqueeze(1)\n",
    "train_x.shape, train_y.shape"
   ]
  },
  {
   "cell_type": "code",
   "execution_count": 58,
   "metadata": {},
   "outputs": [
    {
     "data": {
      "text/plain": [
       "(torch.Size([784]), tensor([1]))"
      ]
     },
     "execution_count": 58,
     "metadata": {},
     "output_type": "execute_result"
    }
   ],
   "source": [
    "dset = list(zip(train_x, train_y)) #so that a tuple (x,y) is returned when indexed\n",
    "x,y = dset[0]\n",
    "x.shape, y"
   ]
  },
  {
   "cell_type": "code",
   "execution_count": 59,
   "metadata": {},
   "outputs": [],
   "source": [
    "valid_x = torch.cat([valid_3_tens, valid_7_tens]).view(-1, 28*28)\n",
    "valid_y = tensor([1]*len(valid_3_tens) + [0]*len(valid_7_tens)).unsqueeze(1)\n",
    "valid_dset = list(zip(valid_x, valid_y))"
   ]
  },
  {
   "cell_type": "code",
   "execution_count": 60,
   "metadata": {},
   "outputs": [],
   "source": [
    "#initialize random weights for each pixel\n",
    "def init_params(size, std = 1.0):\n",
    "    return (torch.randn(size)*std).requires_grad_()"
   ]
  },
  {
   "cell_type": "code",
   "execution_count": 61,
   "metadata": {},
   "outputs": [],
   "source": [
    "weights = init_params((28 * 28, 1))\n",
    "bias = init_params(1) #this is the intercept term, which will be 0 when the pixel is 0"
   ]
  },
  {
   "cell_type": "markdown",
   "metadata": {},
   "source": [
    "In neural networks, the w in the equation  y = w\\*x + b  is called weights, and the b is called the bias. These together make up the parameters."
   ]
  },
  {
   "cell_type": "code",
   "execution_count": 62,
   "metadata": {},
   "outputs": [
    {
     "data": {
      "text/plain": [
       "tensor([20.2336], grad_fn=<AddBackward0>)"
      ]
     },
     "execution_count": 62,
     "metadata": {},
     "output_type": "execute_result"
    }
   ],
   "source": [
    "#calculate prediction of one image\n",
    "(train_x[0]*weights.T).sum() + bias"
   ]
  },
  {
   "cell_type": "code",
   "execution_count": 63,
   "metadata": {},
   "outputs": [
    {
     "data": {
      "text/plain": [
       "tensor([[20.2336],\n",
       "        [17.0644],\n",
       "        [15.2384],\n",
       "        ...,\n",
       "        [18.3804],\n",
       "        [23.8567],\n",
       "        [28.6816]], grad_fn=<AddBackward0>)"
      ]
     },
     "execution_count": 63,
     "metadata": {},
     "output_type": "execute_result"
    }
   ],
   "source": [
    "#use matrix multiplication, instead of looping through each image.\n",
    "def linear1(xb): \n",
    "    return xb@weights + bias\n",
    "preds = linear1(train_x)\n",
    "preds"
   ]
  },
  {
   "cell_type": "code",
   "execution_count": 64,
   "metadata": {},
   "outputs": [
    {
     "data": {
      "text/plain": [
       "tensor([[ True],\n",
       "        [ True],\n",
       "        [ True],\n",
       "        ...,\n",
       "        [False],\n",
       "        [False],\n",
       "        [False]])"
      ]
     },
     "execution_count": 64,
     "metadata": {},
     "output_type": "execute_result"
    }
   ],
   "source": [
    "corrects = (preds > 0.0).float() == train_y\n",
    "corrects"
   ]
  },
  {
   "cell_type": "code",
   "execution_count": 65,
   "metadata": {},
   "outputs": [
    {
     "data": {
      "text/plain": [
       "0.4912068545818329"
      ]
     },
     "execution_count": 65,
     "metadata": {},
     "output_type": "execute_result"
    }
   ],
   "source": [
    "corrects.float().mean().item()"
   ]
  },
  {
   "cell_type": "markdown",
   "metadata": {},
   "source": [
    "considering that the initialized weights were random, yet I get the same answer as the text book, it suggests that change in weights is not going to change the accuracy.\n",
    "Or this loss function isn't a great way to measure how well the machine has learned."
   ]
  },
  {
   "cell_type": "code",
   "execution_count": 66,
   "metadata": {},
   "outputs": [
    {
     "data": {
      "text/plain": [
       "0.4912068545818329"
      ]
     },
     "execution_count": 66,
     "metadata": {},
     "output_type": "execute_result"
    }
   ],
   "source": [
    "#let's change the weight a little bit\n",
    "weights[0] *= 1.0001\n",
    "preds = linear1(train_x)\n",
    "corrects1 = (preds > 0.0).float() == train_y\n",
    "corrects1.float().mean().item()"
   ]
  },
  {
   "cell_type": "markdown",
   "metadata": {},
   "source": [
    "This loss function is in fact a simple linear model over each 28\\*28 pixel. Its guess is only as good as a coin flip, or this loss function is not appropriate for this exercise.\n",
    "\n",
    "As we've seen, we need gradients in order to improve our model using SGD, and in order to calculate gradients we need some loss function that represents how good our model is. That is because the gradients are a measure of how that loss function changes with small tweaks to the weights.\n",
    "\n",
    "So, we need to choose a loss function. The obvious approach would be to use accuracy, which is our metric, as our loss function as well. In this case, we would calculate our prediction for each image, collect these values to calculate an overall accuracy, and then calculate the gradients of each weight with respect to that overall accuracy.\n",
    "\n",
    "Unfortunately, we have a significant technical problem here. The gradient of a function is its slope, or its steepness, which can be defined as rise over run—that is, how much the value of the function goes up or down, divided by how much we changed the input. We can write this in mathematically as: (y_new - y_old) / (x_new - x_old). This gives us a good approximation of the gradient when x_new is very similar to x_old, meaning that their difference is very small. But accuracy only changes at all when a prediction changes from a 3 to a 7, or vice versa. The problem is that a small change in weights from x_old to x_new isn't likely to cause any prediction to change, so (y_new - y_old) will almost always be 0. In other words, the gradient is 0 almost everywhere.\n",
    "\n",
    "A very small change in the value of a weight will often not actually change the accuracy at all. This means it is not useful to use accuracy as a loss function—if we do, most of the time our gradients will actually be 0, and the model will not be able to learn from that number.\n",
    "\n",
    "S: In mathematical terms, accuracy is a function that is constant almost everywhere (except at the threshold, 0.5), so its derivative is nil almost everywhere (and infinity at the threshold). This then gives gradients that are 0 or infinite, which are useless for updating the model.\n",
    "\n",
    "Instead, we need a loss function which, when our weights result in slightly better predictions, gives us a slightly better loss. So what does a \"slightly better prediction\" look like, exactly? Well, in this case, it means that if the correct answer is a 3 the score is a little higher, or if the correct answer is a 7 the score is a little lower."
   ]
  },
  {
   "cell_type": "code",
   "execution_count": 67,
   "metadata": {},
   "outputs": [],
   "source": [
    "#simple example of targets and predictions\n",
    "trgts = tensor([1,0,1])\n",
    "prds = tensor([0.9,0.4,0.2])"
   ]
  },
  {
   "cell_type": "code",
   "execution_count": 68,
   "metadata": {},
   "outputs": [],
   "source": [
    "#loss function to measure distance between predictions and targets\n",
    "def mnist_loss(predictions, targets):\n",
    "    return torch.where(targets==1, 1-predictions, predictions).mean() #this .where() function is similar to list comprehension [b[i] if a[i] else c[i] for i in range(len(a))]"
   ]
  },
  {
   "cell_type": "code",
   "execution_count": 69,
   "metadata": {},
   "outputs": [
    {
     "data": {
      "text/plain": [
       "tensor([0.1000, 0.4000, 0.8000])"
      ]
     },
     "execution_count": 69,
     "metadata": {},
     "output_type": "execute_result"
    }
   ],
   "source": [
    "torch.where(trgts == 1, 1-prds, prds)"
   ]
  },
  {
   "cell_type": "code",
   "execution_count": 70,
   "metadata": {},
   "outputs": [
    {
     "data": {
      "text/plain": [
       "(tensor(0.4333), tensor(0.2333))"
      ]
     },
     "execution_count": 70,
     "metadata": {},
     "output_type": "execute_result"
    }
   ],
   "source": [
    "mnist_loss(prds, trgts), mnist_loss(tensor([0.9,0.4,0.8]), trgts)"
   ]
  },
  {
   "cell_type": "markdown",
   "metadata": {},
   "source": [
    "so far we have assumed that predictions are values between 0 and 1.\n",
    "but this is not always the case.  To ensure this property, we can use the sigmoid function"
   ]
  },
  {
   "cell_type": "code",
   "execution_count": 71,
   "metadata": {},
   "outputs": [
    {
     "name": "stderr",
     "output_type": "stream",
     "text": [
      "/home/ec2-user/anaconda3/envs/python3/lib/python3.6/site-packages/fastbook/__init__.py:73: UserWarning: Not providing a value for linspace's steps is deprecated and will throw a runtime error in a future release. This warning will appear only once per process. (Triggered internally at  /pytorch/aten/src/ATen/native/RangeFactories.cpp:23.)\n",
      "  x = torch.linspace(min,max)\n"
     ]
    },
    {
     "data": {
      "image/png": "[encoded data removed]",
      "text/plain": [
       "<Figure size 432x288 with 1 Axes>"
      ]
     },
     "metadata": {
      "needs_background": "light"
     },
     "output_type": "display_data"
    }
   ],
   "source": [
    "plot_function(torch.sigmoid, title = 'Sigmoid', min = -4, max = 4)"
   ]
  },
  {
   "cell_type": "code",
   "execution_count": 72,
   "metadata": {},
   "outputs": [],
   "source": [
    "def mnist_loss(predictions, targets):\n",
    "    predictions = predictions.sigmoid()\n",
    "    return torch.where(targets == 1, 1-predictions, predictions).mean()"
   ]
  },
  {
   "cell_type": "markdown",
   "metadata": {},
   "source": [
    "Now we can be confident our loss function will work, even if the predictions are not between 0 and 1. All that is required is that a higher prediction corresponds to higher confidence an image is a 3.\n",
    "\n",
    "Having defined a loss function, now is a good moment to recapitulate why we did this. After all, we already had a metric, which was overall accuracy. So why did we define a loss?\n",
    "\n",
    "The key difference is that the metric is to drive human understanding and the loss is to drive automated learning. To drive automated learning, the loss must be a function that has a meaningful derivative. It can't have big flat sections and large jumps, but instead must be reasonably smooth. This is why we designed a loss function that would respond to small changes in confidence level. This requirement means that sometimes it does not really reflect exactly what we are trying to achieve, but is rather a compromise between our real goal, and a function that can be optimized using its gradient. The loss function is calculated for each item in our dataset, and then at the end of an epoch the loss values are all averaged and the overall mean is reported for the epoch.\n",
    "\n",
    "Metrics, on the other hand, are the numbers that we really care about. These are the values that are printed at the end of each epoch that tell us how our model is really doing. It is important that we learn to focus on these metrics, rather than the loss, when judging the performance of a model.\n",
    "\n",
    "## SGD and Mini-Batches\n",
    "Now that we have a loss function that is suitable for driving SGD, we can consider some of the details involved in the next phase of the learning process, which is to change or update the weights based on the gradients. This is called an optimization step.\n",
    "\n",
    "In order to take an optimization step we need to calculate the loss over one or more data items. How many should we use? We could calculate it for the whole dataset, and take the average, or we could calculate it for a single data item. But neither of these is ideal. Calculating it for the whole dataset would take a very long time. Calculating it for a single item would not use much information, so it would result in a very imprecise and unstable gradient. That is, you'd be going to the trouble of updating the weights, but taking into account only how that would improve the model's performance on that single item.\n",
    "\n",
    "So instead we take a compromise between the two: we calculate the average loss for a few data items at a time. This is called a mini-batch. The number of data items in the mini-batch is called the batch size. A larger batch size means that you will get a more accurate and stable estimate of your dataset's gradients from the loss function, but it will take longer, and you will process fewer mini-batches per epoch. Choosing a good batch size is one of the decisions you need to make as a deep learning practitioner to train your model quickly and accurately. We will talk about how to make this choice throughout this book.\n",
    "\n",
    "Another good reason for using mini-batches rather than calculating the gradient on individual data items is that, in practice, we nearly always do our training on an accelerator such as a GPU. These accelerators only perform well if they have lots of work to do at a time, so it's helpful if we can give them lots of data items to work on. Using mini-batches is one of the best ways to do this. However, if you give them too much data to work on at once, they run out of memory—making GPUs happy is also tricky!"
   ]
  },
  {
   "cell_type": "code",
   "execution_count": 73,
   "metadata": {},
   "outputs": [
    {
     "data": {
      "text/plain": [
       "[tensor([11,  9, 12, 14,  7]),\n",
       " tensor([ 8,  5, 10,  3,  2]),\n",
       " tensor([ 1,  6, 13,  0,  4])]"
      ]
     },
     "execution_count": 73,
     "metadata": {},
     "output_type": "execute_result"
    }
   ],
   "source": [
    "#example mini batch with DataLoader\n",
    "coll = range(15)\n",
    "dl = DataLoader(coll, batch_size = 5, shuffle = True)\n",
    "list(dl)"
   ]
  },
  {
   "cell_type": "code",
   "execution_count": 74,
   "metadata": {},
   "outputs": [
    {
     "data": {
      "text/plain": [
       "(#26) [(0, 'a'),(1, 'b'),(2, 'c'),(3, 'd'),(4, 'e'),(5, 'f'),(6, 'g'),(7, 'h'),(8, 'i'),(9, 'j')...]"
      ]
     },
     "execution_count": 74,
     "metadata": {},
     "output_type": "execute_result"
    }
   ],
   "source": [
    "ds = L(enumerate(string.ascii_lowercase))\n",
    "ds"
   ]
  },
  {
   "cell_type": "code",
   "execution_count": 75,
   "metadata": {},
   "outputs": [
    {
     "data": {
      "text/plain": [
       "[(tensor([ 2, 13, 14,  6, 12,  8]), ('c', 'n', 'o', 'g', 'm', 'i')),\n",
       " (tensor([15, 16,  4, 19,  3, 21]), ('p', 'q', 'e', 't', 'd', 'v')),\n",
       " (tensor([ 7, 18, 17, 24, 10,  1]), ('h', 's', 'r', 'y', 'k', 'b')),\n",
       " (tensor([ 5, 20, 23, 25,  0, 22]), ('f', 'u', 'x', 'z', 'a', 'w')),\n",
       " (tensor([11,  9]), ('l', 'j'))]"
      ]
     },
     "execution_count": 75,
     "metadata": {},
     "output_type": "execute_result"
    }
   ],
   "source": [
    "dl = DataLoader(ds, batch_size = 6, shuffle = True)\n",
    "list(dl)"
   ]
  },
  {
   "cell_type": "markdown",
   "metadata": {},
   "source": [
    "if you shuffle a list of tuples, say (predictions, targets), it will preserve the mapping"
   ]
  },
  {
   "cell_type": "code",
   "execution_count": 76,
   "metadata": {},
   "outputs": [],
   "source": [
    "#initialize parameters\n",
    "weights = init_params((28*28,1))\n",
    "bias = init_params(1)"
   ]
  },
  {
   "cell_type": "code",
   "execution_count": 77,
   "metadata": {},
   "outputs": [
    {
     "data": {
      "text/plain": [
       "(torch.Size([256, 784]), torch.Size([256, 1]))"
      ]
     },
     "execution_count": 77,
     "metadata": {},
     "output_type": "execute_result"
    }
   ],
   "source": [
    "dl = DataLoader(dset, batch_size = 256)\n",
    "xb, yb = first(dl)\n",
    "xb.shape, yb.shape"
   ]
  },
  {
   "cell_type": "code",
   "execution_count": 78,
   "metadata": {},
   "outputs": [],
   "source": [
    "valid_dl = DataLoader(valid_dset, batch_size = 256)"
   ]
  },
  {
   "cell_type": "code",
   "execution_count": 79,
   "metadata": {},
   "outputs": [
    {
     "data": {
      "text/plain": [
       "torch.Size([4, 784])"
      ]
     },
     "execution_count": 79,
     "metadata": {},
     "output_type": "execute_result"
    }
   ],
   "source": [
    "batch = train_x[:4]\n",
    "batch.shape"
   ]
  },
  {
   "cell_type": "code",
   "execution_count": 80,
   "metadata": {},
   "outputs": [
    {
     "data": {
      "text/plain": [
       "tensor([[-2.1876],\n",
       "        [-8.3973],\n",
       "        [ 2.5000],\n",
       "        [-4.9473]], grad_fn=<AddBackward0>)"
      ]
     },
     "execution_count": 80,
     "metadata": {},
     "output_type": "execute_result"
    }
   ],
   "source": [
    "preds = linear1(batch)\n",
    "preds"
   ]
  },
  {
   "cell_type": "code",
   "execution_count": 81,
   "metadata": {},
   "outputs": [
    {
     "data": {
      "text/plain": [
       "tensor(0.7419, grad_fn=<MeanBackward0>)"
      ]
     },
     "execution_count": 81,
     "metadata": {},
     "output_type": "execute_result"
    }
   ],
   "source": [
    "loss = mnist_loss(preds, train_y[:4])\n",
    "loss"
   ]
  },
  {
   "cell_type": "code",
   "execution_count": 82,
   "metadata": {},
   "outputs": [
    {
     "data": {
      "text/plain": [
       "(torch.Size([784, 1]), tensor(-0.0061), tensor([-0.0420]))"
      ]
     },
     "execution_count": 82,
     "metadata": {},
     "output_type": "execute_result"
    }
   ],
   "source": [
    "loss.backward()\n",
    "weights.grad.shape, weights.grad.mean(), bias.grad"
   ]
  },
  {
   "cell_type": "code",
   "execution_count": 83,
   "metadata": {},
   "outputs": [],
   "source": [
    "def calc_grad(xb, yb, model):\n",
    "    preds = model(xb)\n",
    "    loss = mnist_loss(preds, yb)\n",
    "    loss.backward()"
   ]
  },
  {
   "cell_type": "code",
   "execution_count": 84,
   "metadata": {},
   "outputs": [
    {
     "data": {
      "text/plain": [
       "(tensor(-0.0121), tensor([-0.0840]))"
      ]
     },
     "execution_count": 84,
     "metadata": {},
     "output_type": "execute_result"
    }
   ],
   "source": [
    "calc_grad(batch, train_y[:4], linear1)\n",
    "weights.grad.mean(), bias.grad"
   ]
  },
  {
   "cell_type": "code",
   "execution_count": 85,
   "metadata": {},
   "outputs": [
    {
     "data": {
      "text/plain": [
       "(tensor(-0.0182), tensor([-0.1260]))"
      ]
     },
     "execution_count": 85,
     "metadata": {},
     "output_type": "execute_result"
    }
   ],
   "source": [
    "calc_grad(batch, train_y[:4], linear1)\n",
    "weights.grad.mean(), bias.grad"
   ]
  },
  {
   "cell_type": "markdown",
   "metadata": {},
   "source": [
    "The gradients changed, even though we have not changed the weights.\n",
    "That's because loss.backward adds the gradients of loss to any gradients currently stored.\n",
    "So, we have to set current gradients to 0 first."
   ]
  },
  {
   "cell_type": "code",
   "execution_count": 86,
   "metadata": {},
   "outputs": [
    {
     "data": {
      "text/plain": [
       "tensor([0.])"
      ]
     },
     "execution_count": 86,
     "metadata": {},
     "output_type": "execute_result"
    }
   ],
   "source": [
    "weights.grad.zero_()\n",
    "bias.grad.zero_()"
   ]
  },
  {
   "cell_type": "markdown",
   "metadata": {},
   "source": [
    "Inplace Operations: Methods in PyTorch whose names end in an underscore modify their objects in place. For instance, bias.zero_() sets all elements of the tensor bias to 0."
   ]
  },
  {
   "cell_type": "markdown",
   "metadata": {},
   "source": [
    "Our only remaining step is to update the weights and biases based on the gradient and learning rate. When we do so, we have to tell PyTorch not to take the gradient of this step too—otherwise things will get very confusing when we try to compute the derivative at the next batch! If we assign to the data attribute of a tensor then PyTorch will not take the gradient of that step. Here's our basic training loop for an epoch:"
   ]
  },
  {
   "cell_type": "code",
   "execution_count": 87,
   "metadata": {},
   "outputs": [],
   "source": [
    "def train_epoch(model, lr, params):\n",
    "    for xb, yb in dl:\n",
    "        calc_grad(xb, yb, model)\n",
    "        for p in params:\n",
    "            p.data -= p.grad*lr\n",
    "            p.grad.zero_()"
   ]
  },
  {
   "cell_type": "code",
   "execution_count": 88,
   "metadata": {},
   "outputs": [
    {
     "data": {
      "text/plain": [
       "tensor([[False],\n",
       "        [False],\n",
       "        [ True],\n",
       "        [False]])"
      ]
     },
     "execution_count": 88,
     "metadata": {},
     "output_type": "execute_result"
    }
   ],
   "source": [
    "(preds>0.0).float() == train_y[:4]"
   ]
  },
  {
   "cell_type": "code",
   "execution_count": 89,
   "metadata": {},
   "outputs": [],
   "source": [
    "#function for accuracy of the batch\n",
    "def batch_accuracy(xb, yb):\n",
    "    preds = xb.sigmoid()\n",
    "    correct = (preds>0.5) == yb\n",
    "    return correct.float().mean()"
   ]
  },
  {
   "cell_type": "code",
   "execution_count": 90,
   "metadata": {},
   "outputs": [
    {
     "data": {
      "text/plain": [
       "tensor(0.2500)"
      ]
     },
     "execution_count": 90,
     "metadata": {},
     "output_type": "execute_result"
    }
   ],
   "source": [
    "batch_accuracy(linear1(batch), train_y[:4])"
   ]
  },
  {
   "cell_type": "code",
   "execution_count": 91,
   "metadata": {},
   "outputs": [],
   "source": [
    "#put the batches together\n",
    "def validate_epoch(model):\n",
    "    accs = [batch_accuracy(model(xb),yb) for xb,yb in valid_dl]\n",
    "    return round(torch.stack(accs).mean().item(), 4)"
   ]
  },
  {
   "cell_type": "code",
   "execution_count": 92,
   "metadata": {},
   "outputs": [
    {
     "data": {
      "text/plain": [
       "0.5261"
      ]
     },
     "execution_count": 92,
     "metadata": {},
     "output_type": "execute_result"
    }
   ],
   "source": [
    "validate_epoch(linear1)"
   ]
  },
  {
   "cell_type": "markdown",
   "metadata": {},
   "source": [
    "the starting point based on our first randomly initialized parameters\n",
    "train one epoch to see if things improved"
   ]
  },
  {
   "cell_type": "code",
   "execution_count": 93,
   "metadata": {},
   "outputs": [
    {
     "data": {
      "text/plain": [
       "0.6663"
      ]
     },
     "execution_count": 93,
     "metadata": {},
     "output_type": "execute_result"
    }
   ],
   "source": [
    "lr = 1. #learning rate\n",
    "params = weights, bias\n",
    "train_epoch(linear1, lr, params)\n",
    "validate_epoch(linear1)"
   ]
  },
  {
   "cell_type": "markdown",
   "metadata": {},
   "source": [
    "some improvements.\n",
    "we do a few more times"
   ]
  },
  {
   "cell_type": "code",
   "execution_count": 94,
   "metadata": {},
   "outputs": [
    {
     "name": "stdout",
     "output_type": "stream",
     "text": [
      "0.8265 0.89 0.9183 0.9276 0.9398 0.9467 0.9506 0.9525 0.9559 0.9579 0.9599 0.9609 0.9613 0.9618 0.9633 0.9638 0.9648 0.9657 0.9672 0.9677 "
     ]
    }
   ],
   "source": [
    "for i in range(20):\n",
    "    train_epoch(linear1, lr, params)\n",
    "    print(validate_epoch(linear1), end = ' ')"
   ]
  },
  {
   "cell_type": "markdown",
   "metadata": {},
   "source": [
    "## Creating an Optimizer\n",
    "Because this is such a general foundation, PyTorch provides some useful classes to make it easier to implement. The first thing we can do is replace our linear1 function with PyTorch's nn.Linear module. A module is an object of a class that inherits from the PyTorch nn.Module class. Objects of this class behave identically to standard Python functions, in that you can call them using parentheses and they will return the activations of a model.\n",
    "\n",
    "nn.Linear does the same thing as our init_params and linear together. It contains both the weights and biases in a single class. Here's how we replicate our model from the previous section:"
   ]
  },
  {
   "cell_type": "code",
   "execution_count": 95,
   "metadata": {},
   "outputs": [
    {
     "data": {
      "text/plain": [
       "(torch.Size([1, 784]), torch.Size([1]))"
      ]
     },
     "execution_count": 95,
     "metadata": {},
     "output_type": "execute_result"
    }
   ],
   "source": [
    "linear_model = nn.Linear(28*28, 1)\n",
    "#every pyTorch module knows what parameters it needs\n",
    "w, b = linear_model.parameters()\n",
    "w.shape, b.shape"
   ]
  },
  {
   "cell_type": "code",
   "execution_count": 96,
   "metadata": {},
   "outputs": [],
   "source": [
    "#create an optimizer\n",
    "class BasicOptim:\n",
    "    def __init__(self, params, lr):\n",
    "        self.params, self.lr = list(params), lr\n",
    "    \n",
    "    def step(self, *args, **kwargs):\n",
    "        for p in self.params:\n",
    "            p.data -= p.grad.data * self.lr\n",
    "            \n",
    "    def zero_grad(self, *args, **kwargs):\n",
    "        for p in self.params:\n",
    "            p.grad = None"
   ]
  },
  {
   "cell_type": "code",
   "execution_count": 97,
   "metadata": {},
   "outputs": [],
   "source": [
    "opt = BasicOptim(linear_model.parameters(), lr)"
   ]
  },
  {
   "cell_type": "code",
   "execution_count": 98,
   "metadata": {},
   "outputs": [],
   "source": [
    "#simplify the training loop to\n",
    "def train_epoch(model):\n",
    "    for xb,yb in dl:\n",
    "        calc_grad(xb, yb, model)\n",
    "        opt.step()\n",
    "        opt.zero_grad()"
   ]
  },
  {
   "cell_type": "code",
   "execution_count": 99,
   "metadata": {},
   "outputs": [
    {
     "data": {
      "text/plain": [
       "0.4607"
      ]
     },
     "execution_count": 99,
     "metadata": {},
     "output_type": "execute_result"
    }
   ],
   "source": [
    "#validate_epoch, batch accuracy remains the same\n",
    "validate_epoch(linear_model)"
   ]
  },
  {
   "cell_type": "code",
   "execution_count": 100,
   "metadata": {},
   "outputs": [],
   "source": [
    "#put the training loop into a single function\n",
    "def train_model(model, epochs):\n",
    "    for i in range(epochs):\n",
    "        train_epoch(model)\n",
    "        print(validate_epoch(model), end = ' ')"
   ]
  },
  {
   "cell_type": "code",
   "execution_count": 101,
   "metadata": {},
   "outputs": [
    {
     "name": "stdout",
     "output_type": "stream",
     "text": [
      "0.4932 0.7686 0.8555 0.9136 0.9346 0.9482 0.957 0.9634 0.9658 0.9678 0.9697 0.9717 0.9736 0.9746 0.9761 0.977 0.9775 0.9775 0.978 0.9785 "
     ]
    }
   ],
   "source": [
    "train_model(linear_model, 20)"
   ]
  },
  {
   "cell_type": "markdown",
   "metadata": {},
   "source": [
    "The fastai provides the SGD class which, by default, does the same thing as BasicOptim"
   ]
  },
  {
   "cell_type": "code",
   "execution_count": 102,
   "metadata": {},
   "outputs": [
    {
     "name": "stdout",
     "output_type": "stream",
     "text": [
      "0.4932 0.8179 0.8496 0.914 0.9346 0.9482 0.957 0.9619 0.9658 0.9673 0.9692 0.9712 0.9741 0.9751 0.9761 0.9775 0.9775 0.978 0.9785 0.979 "
     ]
    }
   ],
   "source": [
    "linear_model = nn.Linear(28*28,1)\n",
    "opt = SGD(linear_model.parameters(), lr)\n",
    "train_model(linear_model, 20)"
   ]
  },
  {
   "cell_type": "markdown",
   "metadata": {},
   "source": [
    "fastai also has a Learner.fit, which can be used in place of train_model"
   ]
  },
  {
   "cell_type": "code",
   "execution_count": 123,
   "metadata": {},
   "outputs": [],
   "source": [
    "dls = DataLoaders(dl, valid_dl)"
   ]
  },
  {
   "cell_type": "markdown",
   "metadata": {},
   "source": [
    "To create a Learner without using an application (such as cnn_learner) we need to pass in all the elements that we've created in this chapter: the DataLoaders, the model, the optimization function (which will be passed the parameters), the loss function, and optionally any metrics to print:"
   ]
  },
  {
   "cell_type": "code",
   "execution_count": 104,
   "metadata": {},
   "outputs": [],
   "source": [
    "learn = Learner(dls, nn.Linear(28*28,1), opt_func=SGD,\n",
    "               loss_func=mnist_loss, metrics=batch_accuracy)"
   ]
  },
  {
   "cell_type": "code",
   "execution_count": 105,
   "metadata": {},
   "outputs": [
    {
     "data": {
      "text/html": [
       "<table border=\"1\" class=\"dataframe\">\n",
       "  <thead>\n",
       "    <tr style=\"text-align: left;\">\n",
       "      <th>epoch</th>\n",
       "      <th>train_loss</th>\n",
       "      <th>valid_loss</th>\n",
       "      <th>batch_accuracy</th>\n",
       "      <th>time</th>\n",
       "    </tr>\n",
       "  </thead>\n",
       "  <tbody>\n",
       "    <tr>\n",
       "      <td>0</td>\n",
       "      <td>0.636709</td>\n",
       "      <td>0.503144</td>\n",
       "      <td>0.495584</td>\n",
       "      <td>00:00</td>\n",
       "    </tr>\n",
       "    <tr>\n",
       "      <td>1</td>\n",
       "      <td>0.429828</td>\n",
       "      <td>0.248517</td>\n",
       "      <td>0.777233</td>\n",
       "      <td>00:00</td>\n",
       "    </tr>\n",
       "    <tr>\n",
       "      <td>2</td>\n",
       "      <td>0.161680</td>\n",
       "      <td>0.155361</td>\n",
       "      <td>0.861629</td>\n",
       "      <td>00:00</td>\n",
       "    </tr>\n",
       "    <tr>\n",
       "      <td>3</td>\n",
       "      <td>0.072948</td>\n",
       "      <td>0.097721</td>\n",
       "      <td>0.917566</td>\n",
       "      <td>00:00</td>\n",
       "    </tr>\n",
       "    <tr>\n",
       "      <td>4</td>\n",
       "      <td>0.040128</td>\n",
       "      <td>0.073205</td>\n",
       "      <td>0.936212</td>\n",
       "      <td>00:00</td>\n",
       "    </tr>\n",
       "    <tr>\n",
       "      <td>5</td>\n",
       "      <td>0.027210</td>\n",
       "      <td>0.059466</td>\n",
       "      <td>0.950442</td>\n",
       "      <td>00:00</td>\n",
       "    </tr>\n",
       "    <tr>\n",
       "      <td>6</td>\n",
       "      <td>0.021837</td>\n",
       "      <td>0.050799</td>\n",
       "      <td>0.957802</td>\n",
       "      <td>00:00</td>\n",
       "    </tr>\n",
       "    <tr>\n",
       "      <td>7</td>\n",
       "      <td>0.019398</td>\n",
       "      <td>0.044980</td>\n",
       "      <td>0.964181</td>\n",
       "      <td>00:00</td>\n",
       "    </tr>\n",
       "    <tr>\n",
       "      <td>8</td>\n",
       "      <td>0.018122</td>\n",
       "      <td>0.040853</td>\n",
       "      <td>0.966143</td>\n",
       "      <td>00:00</td>\n",
       "    </tr>\n",
       "    <tr>\n",
       "      <td>9</td>\n",
       "      <td>0.017330</td>\n",
       "      <td>0.037788</td>\n",
       "      <td>0.968106</td>\n",
       "      <td>00:00</td>\n",
       "    </tr>\n",
       "  </tbody>\n",
       "</table>"
      ],
      "text/plain": [
       "<IPython.core.display.HTML object>"
      ]
     },
     "metadata": {},
     "output_type": "display_data"
    }
   ],
   "source": [
    "learn.fit(10, lr=lr)"
   ]
  },
  {
   "cell_type": "markdown",
   "metadata": {},
   "source": [
    "## adding non-linearity (ReLU; activating function)\n",
    "The above implements a simple linear classifier (a single node).  To feed the output of that node to the next, say a linear classifier again, would collectively end up as a single linear function.\\\n",
    "Say, f1(x) = aX1 + B1;\\\n",
    "f2(x) = cX2 + B2, where X2 = f1(x).\\\n",
    "Then, f2(x) = c(aX1 + B1) + B2 = acX1 + cB1+B2 -> another linear classifier with different coefficients.\\\n",
    "The goal is to add something non-linear in between.  In this case, a Rectified Linear Unit (ReLU), which outputs 0 unless the input is positive."
   ]
  },
  {
   "cell_type": "code",
   "execution_count": 106,
   "metadata": {},
   "outputs": [],
   "source": [
    "def simple_net(xb):\n",
    "    res = xb@w1 + b1\n",
    "    res = res.max(tensor(0.0)) #this is ReLU; or also implementable as F.relu\n",
    "    res = res@w2 + b2\n",
    "    return res\n",
    "\n",
    "#initialize the parameters\n",
    "w1 = init_params((28*28,30)) #30 is an arbitrary number of your choosing; 1 means a single output\n",
    "b1 = init_params(30) #to match w1\n",
    "w2 = init_params((30, 1)) #1 to get a single output\n",
    "b2 = init_params(1)"
   ]
  },
  {
   "cell_type": "code",
   "execution_count": 107,
   "metadata": {},
   "outputs": [
    {
     "data": {
      "image/png": "[encoded data removed]",
      "text/plain": [
       "<Figure size 432x288 with 1 Axes>"
      ]
     },
     "metadata": {
      "needs_background": "light"
     },
     "output_type": "display_data"
    }
   ],
   "source": [
    "plot_function(F.relu)"
   ]
  },
  {
   "cell_type": "code",
   "execution_count": 124,
   "metadata": {},
   "outputs": [],
   "source": [
    "#one can also implement in nn.Sequential, which defines the sequence of the layers to be executed\n",
    "simple_net = nn.Sequential(\n",
    "    nn.Linear(28*28, 30),\n",
    "    nn.ReLU(),\n",
    "    nn.Linear(30,10),\n",
    "    nn.ReLU(),\n",
    "    nn.Linear(10,1)\n",
    ")"
   ]
  },
  {
   "cell_type": "code",
   "execution_count": 125,
   "metadata": {},
   "outputs": [],
   "source": [
    "#using the learner module by Fastai\n",
    "learn = Learner(dls, simple_net, opt_func = SGD,\n",
    "               loss_func=mnist_loss, metrics=batch_accuracy)"
   ]
  },
  {
   "cell_type": "code",
   "execution_count": 126,
   "metadata": {},
   "outputs": [
    {
     "data": {
      "text/html": [
       "<table border=\"1\" class=\"dataframe\">\n",
       "  <thead>\n",
       "    <tr style=\"text-align: left;\">\n",
       "      <th>epoch</th>\n",
       "      <th>train_loss</th>\n",
       "      <th>valid_loss</th>\n",
       "      <th>batch_accuracy</th>\n",
       "      <th>time</th>\n",
       "    </tr>\n",
       "  </thead>\n",
       "  <tbody>\n",
       "    <tr>\n",
       "      <td>0</td>\n",
       "      <td>0.410616</td>\n",
       "      <td>0.429587</td>\n",
       "      <td>0.504416</td>\n",
       "      <td>00:00</td>\n",
       "    </tr>\n",
       "    <tr>\n",
       "      <td>1</td>\n",
       "      <td>0.185256</td>\n",
       "      <td>0.293513</td>\n",
       "      <td>0.713445</td>\n",
       "      <td>00:00</td>\n",
       "    </tr>\n",
       "    <tr>\n",
       "      <td>2</td>\n",
       "      <td>0.089244</td>\n",
       "      <td>0.132287</td>\n",
       "      <td>0.893523</td>\n",
       "      <td>00:00</td>\n",
       "    </tr>\n",
       "    <tr>\n",
       "      <td>3</td>\n",
       "      <td>0.050857</td>\n",
       "      <td>0.084011</td>\n",
       "      <td>0.932287</td>\n",
       "      <td>00:00</td>\n",
       "    </tr>\n",
       "    <tr>\n",
       "      <td>4</td>\n",
       "      <td>0.034591</td>\n",
       "      <td>0.063573</td>\n",
       "      <td>0.947988</td>\n",
       "      <td>00:00</td>\n",
       "    </tr>\n",
       "    <tr>\n",
       "      <td>5</td>\n",
       "      <td>0.027102</td>\n",
       "      <td>0.052195</td>\n",
       "      <td>0.959274</td>\n",
       "      <td>00:00</td>\n",
       "    </tr>\n",
       "    <tr>\n",
       "      <td>6</td>\n",
       "      <td>0.023268</td>\n",
       "      <td>0.045094</td>\n",
       "      <td>0.963199</td>\n",
       "      <td>00:00</td>\n",
       "    </tr>\n",
       "    <tr>\n",
       "      <td>7</td>\n",
       "      <td>0.021007</td>\n",
       "      <td>0.040339</td>\n",
       "      <td>0.966634</td>\n",
       "      <td>00:00</td>\n",
       "    </tr>\n",
       "    <tr>\n",
       "      <td>8</td>\n",
       "      <td>0.019485</td>\n",
       "      <td>0.036938</td>\n",
       "      <td>0.968597</td>\n",
       "      <td>00:00</td>\n",
       "    </tr>\n",
       "    <tr>\n",
       "      <td>9</td>\n",
       "      <td>0.018348</td>\n",
       "      <td>0.034385</td>\n",
       "      <td>0.969578</td>\n",
       "      <td>00:00</td>\n",
       "    </tr>\n",
       "    <tr>\n",
       "      <td>10</td>\n",
       "      <td>0.017438</td>\n",
       "      <td>0.032394</td>\n",
       "      <td>0.971541</td>\n",
       "      <td>00:00</td>\n",
       "    </tr>\n",
       "    <tr>\n",
       "      <td>11</td>\n",
       "      <td>0.016683</td>\n",
       "      <td>0.030772</td>\n",
       "      <td>0.972522</td>\n",
       "      <td>00:00</td>\n",
       "    </tr>\n",
       "    <tr>\n",
       "      <td>12</td>\n",
       "      <td>0.016040</td>\n",
       "      <td>0.029418</td>\n",
       "      <td>0.972522</td>\n",
       "      <td>00:00</td>\n",
       "    </tr>\n",
       "    <tr>\n",
       "      <td>13</td>\n",
       "      <td>0.015483</td>\n",
       "      <td>0.028267</td>\n",
       "      <td>0.973013</td>\n",
       "      <td>00:00</td>\n",
       "    </tr>\n",
       "    <tr>\n",
       "      <td>14</td>\n",
       "      <td>0.014997</td>\n",
       "      <td>0.027272</td>\n",
       "      <td>0.975957</td>\n",
       "      <td>00:00</td>\n",
       "    </tr>\n",
       "    <tr>\n",
       "      <td>15</td>\n",
       "      <td>0.014570</td>\n",
       "      <td>0.026410</td>\n",
       "      <td>0.976448</td>\n",
       "      <td>00:00</td>\n",
       "    </tr>\n",
       "    <tr>\n",
       "      <td>16</td>\n",
       "      <td>0.014192</td>\n",
       "      <td>0.025662</td>\n",
       "      <td>0.976938</td>\n",
       "      <td>00:00</td>\n",
       "    </tr>\n",
       "    <tr>\n",
       "      <td>17</td>\n",
       "      <td>0.013857</td>\n",
       "      <td>0.025004</td>\n",
       "      <td>0.977920</td>\n",
       "      <td>00:00</td>\n",
       "    </tr>\n",
       "    <tr>\n",
       "      <td>18</td>\n",
       "      <td>0.013556</td>\n",
       "      <td>0.024421</td>\n",
       "      <td>0.977920</td>\n",
       "      <td>00:00</td>\n",
       "    </tr>\n",
       "    <tr>\n",
       "      <td>19</td>\n",
       "      <td>0.013284</td>\n",
       "      <td>0.023903</td>\n",
       "      <td>0.977920</td>\n",
       "      <td>00:00</td>\n",
       "    </tr>\n",
       "    <tr>\n",
       "      <td>20</td>\n",
       "      <td>0.013037</td>\n",
       "      <td>0.023436</td>\n",
       "      <td>0.977920</td>\n",
       "      <td>00:00</td>\n",
       "    </tr>\n",
       "    <tr>\n",
       "      <td>21</td>\n",
       "      <td>0.012810</td>\n",
       "      <td>0.023012</td>\n",
       "      <td>0.978901</td>\n",
       "      <td>00:00</td>\n",
       "    </tr>\n",
       "    <tr>\n",
       "      <td>22</td>\n",
       "      <td>0.012599</td>\n",
       "      <td>0.022631</td>\n",
       "      <td>0.978901</td>\n",
       "      <td>00:00</td>\n",
       "    </tr>\n",
       "    <tr>\n",
       "      <td>23</td>\n",
       "      <td>0.012403</td>\n",
       "      <td>0.022280</td>\n",
       "      <td>0.979392</td>\n",
       "      <td>00:00</td>\n",
       "    </tr>\n",
       "    <tr>\n",
       "      <td>24</td>\n",
       "      <td>0.012218</td>\n",
       "      <td>0.021959</td>\n",
       "      <td>0.979882</td>\n",
       "      <td>00:00</td>\n",
       "    </tr>\n",
       "    <tr>\n",
       "      <td>25</td>\n",
       "      <td>0.012043</td>\n",
       "      <td>0.021662</td>\n",
       "      <td>0.980373</td>\n",
       "      <td>00:00</td>\n",
       "    </tr>\n",
       "    <tr>\n",
       "      <td>26</td>\n",
       "      <td>0.011877</td>\n",
       "      <td>0.021388</td>\n",
       "      <td>0.980373</td>\n",
       "      <td>00:00</td>\n",
       "    </tr>\n",
       "    <tr>\n",
       "      <td>27</td>\n",
       "      <td>0.011718</td>\n",
       "      <td>0.021135</td>\n",
       "      <td>0.980373</td>\n",
       "      <td>00:00</td>\n",
       "    </tr>\n",
       "    <tr>\n",
       "      <td>28</td>\n",
       "      <td>0.011567</td>\n",
       "      <td>0.020899</td>\n",
       "      <td>0.980373</td>\n",
       "      <td>00:00</td>\n",
       "    </tr>\n",
       "    <tr>\n",
       "      <td>29</td>\n",
       "      <td>0.011423</td>\n",
       "      <td>0.020682</td>\n",
       "      <td>0.980864</td>\n",
       "      <td>00:00</td>\n",
       "    </tr>\n",
       "    <tr>\n",
       "      <td>30</td>\n",
       "      <td>0.011285</td>\n",
       "      <td>0.020482</td>\n",
       "      <td>0.980864</td>\n",
       "      <td>00:00</td>\n",
       "    </tr>\n",
       "    <tr>\n",
       "      <td>31</td>\n",
       "      <td>0.011153</td>\n",
       "      <td>0.020296</td>\n",
       "      <td>0.980864</td>\n",
       "      <td>00:00</td>\n",
       "    </tr>\n",
       "    <tr>\n",
       "      <td>32</td>\n",
       "      <td>0.011028</td>\n",
       "      <td>0.020125</td>\n",
       "      <td>0.981354</td>\n",
       "      <td>00:00</td>\n",
       "    </tr>\n",
       "    <tr>\n",
       "      <td>33</td>\n",
       "      <td>0.010908</td>\n",
       "      <td>0.019968</td>\n",
       "      <td>0.981845</td>\n",
       "      <td>00:00</td>\n",
       "    </tr>\n",
       "    <tr>\n",
       "      <td>34</td>\n",
       "      <td>0.010793</td>\n",
       "      <td>0.019825</td>\n",
       "      <td>0.981845</td>\n",
       "      <td>00:00</td>\n",
       "    </tr>\n",
       "    <tr>\n",
       "      <td>35</td>\n",
       "      <td>0.010684</td>\n",
       "      <td>0.019692</td>\n",
       "      <td>0.980864</td>\n",
       "      <td>00:00</td>\n",
       "    </tr>\n",
       "    <tr>\n",
       "      <td>36</td>\n",
       "      <td>0.010579</td>\n",
       "      <td>0.019571</td>\n",
       "      <td>0.980864</td>\n",
       "      <td>00:00</td>\n",
       "    </tr>\n",
       "    <tr>\n",
       "      <td>37</td>\n",
       "      <td>0.010478</td>\n",
       "      <td>0.019459</td>\n",
       "      <td>0.980864</td>\n",
       "      <td>00:00</td>\n",
       "    </tr>\n",
       "    <tr>\n",
       "      <td>38</td>\n",
       "      <td>0.010381</td>\n",
       "      <td>0.019356</td>\n",
       "      <td>0.981354</td>\n",
       "      <td>00:00</td>\n",
       "    </tr>\n",
       "    <tr>\n",
       "      <td>39</td>\n",
       "      <td>0.010286</td>\n",
       "      <td>0.019262</td>\n",
       "      <td>0.981354</td>\n",
       "      <td>00:00</td>\n",
       "    </tr>\n",
       "  </tbody>\n",
       "</table>"
      ],
      "text/plain": [
       "<IPython.core.display.HTML object>"
      ]
     },
     "metadata": {},
     "output_type": "display_data"
    }
   ],
   "source": [
    "learn.fit(40,0.1)"
   ]
  },
  {
   "cell_type": "code",
   "execution_count": 111,
   "metadata": {},
   "outputs": [
    {
     "data": {
      "text/plain": [
       "[<matplotlib.lines.Line2D at 0x7f7267812550>]"
      ]
     },
     "execution_count": 111,
     "metadata": {},
     "output_type": "execute_result"
    },
    {
     "data": {
      "image/png": "[encoded data removed]",
      "text/plain": [
       "<Figure size 432x288 with 1 Axes>"
      ]
     },
     "metadata": {
      "needs_background": "light"
     },
     "output_type": "display_data"
    }
   ],
   "source": [
    "#learner records all these values in learn.recorder\n",
    "plt.plot(L(learn.recorder.values).itemgot(2))"
   ]
  },
  {
   "cell_type": "code",
   "execution_count": null,
   "metadata": {},
   "outputs": [],
   "source": [
    "#the accuracy of the final epoch\n",
    "learn.recorder.values[-1][2]"
   ]
  },
  {
   "cell_type": "code",
   "execution_count": 116,
   "metadata": {},
   "outputs": [
    {
     "name": "stdout",
     "output_type": "stream",
     "text": [
      "0.5153 0.7046 0.7713 0.8583 0.8924 0.9086 0.9188 0.9276 0.9315 0.9363 "
     ]
    }
   ],
   "source": [
    "#we can also use the train_model defined above\n",
    "def simple_net2(xb):\n",
    "    res = xb@w1 + b1\n",
    "    res = res.max(tensor(0.0)) #this is ReLU; or also implementable as F.relu\n",
    "    res = res@w2 + b2\n",
    "    return res\n",
    "\n",
    "#initialize the parameters\n",
    "w1 = init_params((28*28,30)) #30 is an arbitrary number of your choosing; 1 means a single output\n",
    "b1 = init_params(30) #to match w1\n",
    "w2 = init_params((30, 1)) #1 to get a single output\n",
    "b2 = init_params(1)\n",
    "opt = BasicOptim((w1,b1,w2,b2), 0.1)\n",
    "train_model(simple_net2, 10)"
   ]
  },
  {
   "cell_type": "code",
   "execution_count": 117,
   "metadata": {},
   "outputs": [
    {
     "name": "stdout",
     "output_type": "stream",
     "text": [
      "0.9422 0.9432 0.9461 0.951 0.9529 0.9554 0.9564 0.9588 0.9603 0.9598 "
     ]
    }
   ],
   "source": [
    "train_model(simple_net2, 10)"
   ]
  },
  {
   "cell_type": "markdown",
   "metadata": {},
   "source": [
    "Up until this point, we have implemented 2 layers of learning. \\\n",
    "We can go 'deeper' (ie the name Deep Learning), by adding more layers, but will add computation time.\\\n",
    "The following example is provided under the fastai module"
   ]
  },
  {
   "cell_type": "code",
   "execution_count": 119,
   "metadata": {},
   "outputs": [
    {
     "data": {
      "text/html": [
       "<table border=\"1\" class=\"dataframe\">\n",
       "  <thead>\n",
       "    <tr style=\"text-align: left;\">\n",
       "      <th>epoch</th>\n",
       "      <th>train_loss</th>\n",
       "      <th>valid_loss</th>\n",
       "      <th>accuracy</th>\n",
       "      <th>time</th>\n",
       "    </tr>\n",
       "  </thead>\n",
       "  <tbody>\n",
       "    <tr>\n",
       "      <td>0</td>\n",
       "      <td>0.116263</td>\n",
       "      <td>0.011971</td>\n",
       "      <td>0.995584</td>\n",
       "      <td>02:23</td>\n",
       "    </tr>\n",
       "  </tbody>\n",
       "</table>"
      ],
      "text/plain": [
       "<IPython.core.display.HTML object>"
      ]
     },
     "metadata": {},
     "output_type": "display_data"
    }
   ],
   "source": [
    "dls = ImageDataLoaders.from_folder(path)\n",
    "learn = cnn_learner(dls, resnet18, pretrained=False,\n",
    "                   loss_func=F.cross_entropy, metrics=accuracy)\n",
    "learn.fit_one_cycle(1,0.1)"
   ]
  },
  {
   "cell_type": "markdown",
   "metadata": {},
   "source": [
    "cnn_learner - convoluted neural network learner.\\\n",
    "Here, instead of taking one big matrix and feed over few layers, it partitions the matrix into smaller matrices and feed over many more layers.\\\n",
    "The reason for doing this is performance - we get better results with small matrices over deeper layers."
   ]
  },
  {
   "cell_type": "markdown",
   "metadata": {},
   "source": [
    "## Questionnaire\n",
    "1. How is a grayscale image represented on a computer? How about a color image?\\\n",
    "as a matrix, each representing a pixel and the gray value (up to 255).  color image as a collection of 3 channels (RGB).\\\n",
    "2. How are the files and folders in the MNIST_SAMPLE dataset structured? Why?\\\n",
    "path/train/x/  path/valid/x/   where x is 3 or 7.  Training set to train the machine, validation set to 'test' the machine (previously unseen data)\\\n",
    "3. Explain how the \"pixel similarity\" approach to classifying digits works.\\\n",
    "It calculates the distance of each pixel of the input to the \"ideal\" digit of interest, and aggregates the difference.  The bigger the difference, the more likely it is not the digit of interest.\\\n",
    "4. What is a list comprehension? Create one now that selects odd numbers from a list and doubles them.\\\n",
    "A list comprehension is creating a list of elements from an iterable following a rule.\\\n"
   ]
  },
  {
   "cell_type": "code",
   "execution_count": 140,
   "metadata": {},
   "outputs": [
    {
     "data": {
      "text/plain": [
       "[2, 6, 10, 14, 18, 22, 26, 30, 34, 38]"
      ]
     },
     "execution_count": 140,
     "metadata": {},
     "output_type": "execute_result"
    }
   ],
   "source": [
    "x = range(20)\n",
    "[i*2 for i in x if i%2]"
   ]
  },
  {
   "cell_type": "markdown",
   "metadata": {},
   "source": [
    "5. What is a \"rank-3 tensor\"?\\\n",
    "rank-3 tensor is a matrix with 3 dimensions.\\\n",
    "6. What is the difference between tensor rank and shape? How do you get the rank from the shape?\\\n",
    "tensor rank tells you how many dimension the matrix has, and tensor shape is the size of each dimension. tensor.shape returns a vector of the size of each dimension, so counting number of elements in tensor.shape gives tensor rank; len(tensor.shape)\\\n",
    "7. What are RMSE and L1 norm?\\\n",
    "RMSE - root mean squared error (the average difference of observed value to the fitted value, squared and then root)\\\n",
    "L1 norm - the mean absolute difference between obs value and fitted value.\\\n",
    "8. How can you apply a calculation on thousands of numbers at once, many thousands of times faster than a Python loop?\\\n",
    "By using Broadcasting.  Calculation in C, or CUDA if computing on a GPU\\\n",
    "9. Create a 3×3 tensor or array containing the numbers from 1 to 9. Double it. Select the bottom-right four numbers.\\\n"
   ]
  },
  {
   "cell_type": "code",
   "execution_count": 156,
   "metadata": {},
   "outputs": [
    {
     "data": {
      "text/plain": [
       "tensor([9, 7, 8, 9])"
      ]
     },
     "execution_count": 156,
     "metadata": {},
     "output_type": "execute_result"
    }
   ],
   "source": [
    "x = torch.arange(1,10).view(3,3)\n",
    "x.repeat(1,2)[2,-4:]"
   ]
  },
  {
   "cell_type": "markdown",
   "metadata": {},
   "source": [
    "10. What is broadcasting?\\\n",
    "broadcasting allows calculation between two tensors of different ranks (so makes codes easier to write and read), and it calculates faster than a usual python for loop.\\\n",
    "11. Are metrics generally calculated using the training set, or the validation set? Why?\\\n",
    "validation set.  Beacuse the model has not seen this set of data yet.\\\n",
    "12. What is SGD?\\\n",
    "Stochastic Gradient Descent.  It is used for optimization by \"going down\" the gradient, starting from a random point.\n",
    "13. Why does SGD use mini-batches?\\\n",
    "Optimize the parameters over small batches of data in parallel.\\\n",
    "14. What are the seven steps in SGD for machine learning?\\\n",
    "initialize parameters\\\n",
    "initialize model or calculate predictions\\\n",
    "calculate loss\\\n",
    "calculate the gradients\\\n",
    "step the weights (update the weights)\\\n",
    "repeat the process\\\n",
    "stop\\\n",
    "15. How do we initialize the weights in a model?\\\n",
    "Randomly.  Can be done with nn module (i.e. nn.Linear())\\ \n",
    "16. What is \"loss\"?\\\n",
    "loss is the difference between the observed and the fitted values.\\\n",
    "17. Why can't we always use a high learning rate?\\\n",
    "might miss the turning point\\\n",
    "18. What is a \"gradient\"?\\\n",
    "A slope\\\n",
    "19. Do you need to know how to calculate gradients yourself?\\\n",
    "Yes, conceptually.\\\n",
    "20. Why can't we use accuracy as a loss function?\\\n",
    "Because it is difficult to calculate the gradient from accuracy (y_old and y_new could very well stay the same, so a lot of 0s)\\\n",
    "21. Draw the sigmoid function. What is special about its shape?\\\n",
    "For any input value of x, the output is always between 0 and 1.\\\n",
    "22. What is the difference between a loss function and a metric?\\\n",
    "loss function is useful for  the optimization process, and a metric is to measure outcome of the model.\\\n",
    "23. What is the function to calculate new weights using a learning rate?\\\n",
    "step\\\n",
    "24. What does the DataLoader class do?\\\n",
    "split a list into batches.\\\n",
    "25. Write pseudocode showing the basic steps taken in each epoch for SGD.\\\n",
    "#get predictions\\\n",
    "preds = model(params)\\\n",
    "#calculate loss\\\n",
    "loss = dist(preds, valid_ds)\\\n",
    "#calculate gradient\\\n",
    "loss.backward()\\\n",
    "params.grad.zero_()\\\n",
    "26. Create a function that, if passed two arguments [1,2,3,4] and 'abcd', returns [(1, 'a'), (2, 'b'), (3, 'c'), (4, 'd')]. What is special about that output data structure?\\\n",
    "each index returns a tuple - which can be used as (independent variable, dependent variable)"
   ]
  },
  {
   "cell_type": "code",
   "execution_count": 160,
   "metadata": {},
   "outputs": [
    {
     "data": {
      "text/plain": [
       "[(1, 'a'), (2, 'b'), (3, 'c'), (4, 'd')]"
      ]
     },
     "execution_count": 160,
     "metadata": {},
     "output_type": "execute_result"
    }
   ],
   "source": [
    "def afunc(x,y):\n",
    "    return list(zip(x,y))\n",
    "afunc([1,2,3,4],'abcd')"
   ]
  },
  {
   "cell_type": "markdown",
   "metadata": {},
   "source": [
    "27. What does view do in PyTorch?\\\n",
    "view allows changing the shape of a tensor without changing the contents.\\\n",
    "28. What are the \"bias\" parameters in a neural network? Why do we need them?\\\n",
    "It is like the intercept of a straight line.  To avoid getting a lot of zeroes.\\\n",
    "29. What does the @ operator do in Python?\\\n",
    "matrix multiplication\\\n",
    "30. What does the backward method do?\\\n",
    "backpropagation to calculate the gradient\\\n",
    "31. Why do we have to zero the gradients?\\\n",
    "it is stored in memory, and backward() just adds to existing memory.\\\n",
    "32. What information do we have to pass to Learner?\\\n",
    "Learner(dataset, model, optimization function, loss function, metrics)\\\n",
    "33. Show Python or pseudocode for the basic steps of a training loop.\\\n",
    "def train_epoch(input, model):\\\n",
    "    #get predictions\\\n",
    "    preds = model(params)\\\n",
    "    #calculate loss\\\n",
    "    loss = loss_func(preds, valid_ds)\\\n",
    "    #calculate gradient\\\n",
    "    loss.backward()\\\n",
    "    params.grad.zero_()\\\n",
    "    \n",
    "def validate_epoch(model):\\\n",
    "    res = [batch_accuracy(xb,yb) for xb,yb in dataset]\\\n",
    "    return res\\\n",
    "\n",
    "for i in range(x):\\\n",
    "    train_epoch(model)\\\n",
    "    validate_epoch(model)\\\n",
    "\n",
    "\n",
    "34. What is \"ReLU\"? Draw a plot of it for values from -2 to +2.\\\n",
    "ReLU is Rectifying Linear Unit.  It returns the input itself, and 0 if input is negative.\\\n",
    "35. What is an \"activation function\"?\\\n",
    "activation function passes the output from a node as input to another node that introduces non-linearity to it.\\\n",
    "36. What's the difference between F.relu and nn.ReLU?\\\n",
    "usage.  nn.ReLU is used in the nn module.\\\n",
    "37. The universal approximation theorem shows that any function can be approximated as closely as needed using just one nonlinearity. So why do we normally use more?\\\n",
    "For performance.  We can go deeper without using as many parameters (smaller input matrices).\\\n",
    "\n",
    "Further Research\\\n",
    "Create your own implementation of Learner from scratch, based on the training loop shown in this chapter.\\\n",
    "Complete all the steps in this chapter using the full MNIST datasets (that is, for all digits, not just 3s and 7s). This is a significant project and will take you quite a bit of time to complete! You'll need to do some of your own research to figure out how to overcome some obstacles you'll meet on the way."
   ]
  },
  {
   "cell_type": "code",
   "execution_count": null,
   "metadata": {},
   "outputs": [],
   "source": []
  }
 ],
 "metadata": {
  "kernelspec": {
   "display_name": "conda_python3",
   "language": "python",
   "name": "conda_python3"
  },
  "language_info": {
   "codemirror_mode": {
    "name": "ipython",
    "version": 3
   },
   "file_extension": ".py",
   "mimetype": "text/x-python",
   "name": "python",
   "nbconvert_exporter": "python",
   "pygments_lexer": "ipython3",
   "version": "3.6.10"
  }
 },
 "nbformat": 4,
 "nbformat_minor": 4
}
